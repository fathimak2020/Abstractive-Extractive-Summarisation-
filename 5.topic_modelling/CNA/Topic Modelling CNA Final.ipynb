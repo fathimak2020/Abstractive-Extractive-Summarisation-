{
 "cells": [
  {
   "cell_type": "code",
   "execution_count": 1,
   "metadata": {},
   "outputs": [],
   "source": [
    "import warnings\n",
    "warnings.filterwarnings(\"ignore\", category=DeprecationWarning)\n",
    "import pandas as pd"
   ]
  },
  {
   "cell_type": "code",
   "execution_count": 2,
   "metadata": {},
   "outputs": [
    {
     "data": {
      "text/html": [
       "<div>\n",
       "<style scoped>\n",
       "    .dataframe tbody tr th:only-of-type {\n",
       "        vertical-align: middle;\n",
       "    }\n",
       "\n",
       "    .dataframe tbody tr th {\n",
       "        vertical-align: top;\n",
       "    }\n",
       "\n",
       "    .dataframe thead th {\n",
       "        text-align: right;\n",
       "    }\n",
       "</style>\n",
       "<table border=\"1\" class=\"dataframe\">\n",
       "  <thead>\n",
       "    <tr style=\"text-align: right;\">\n",
       "      <th></th>\n",
       "      <th>clean_text</th>\n",
       "    </tr>\n",
       "  </thead>\n",
       "  <tbody>\n",
       "    <tr>\n",
       "      <th>0</th>\n",
       "      <td>london :seven-time winners ac milan reached th...</td>\n",
       "    </tr>\n",
       "    <tr>\n",
       "      <th>1</th>\n",
       "      <td>munich :bayern munich forward eric-maxim choup...</td>\n",
       "    </tr>\n",
       "    <tr>\n",
       "      <th>2</th>\n",
       "      <td>london: chelsea's guro reiten scored from the ...</td>\n",
       "    </tr>\n",
       "    <tr>\n",
       "      <th>3</th>\n",
       "      <td>london: ac milan can dare to dream about going...</td>\n",
       "    </tr>\n",
       "    <tr>\n",
       "      <th>4</th>\n",
       "      <td>london: antonio conte's dismal record in the c...</td>\n",
       "    </tr>\n",
       "  </tbody>\n",
       "</table>\n",
       "</div>"
      ],
      "text/plain": [
       "                                          clean_text\n",
       "0  london :seven-time winners ac milan reached th...\n",
       "1  munich :bayern munich forward eric-maxim choup...\n",
       "2  london: chelsea's guro reiten scored from the ...\n",
       "3  london: ac milan can dare to dream about going...\n",
       "4  london: antonio conte's dismal record in the c..."
      ]
     },
     "execution_count": 2,
     "metadata": {},
     "output_type": "execute_result"
    }
   ],
   "source": [
    "df = pd.read_csv(\"cna_FINAL.csv\")\n",
    "df2 = df[['clean_text']]\n",
    "\n",
    "df2.head(5)\n",
    "df2.info()"
   ]
  },
  {
   "cell_type": "code",
   "execution_count": 3,
   "metadata": {},
   "outputs": [],
   "source": [
    "# i=0\n",
    "# for index, row in df2.iterrows():\n",
    "#     if i > len(df2):\n",
    "#        break\n",
    "#     else:\n",
    "#        f = open(str(i)+'.txt', 'w', encoding='utf-8')\n",
    "#        f.write(row[0])\n",
    "#        f.close()\n",
    "#        i+=1"
   ]
  },
  {
   "cell_type": "code",
   "execution_count": 4,
   "metadata": {},
   "outputs": [],
   "source": [
    "import preprocess2\n",
    "cna_corpus = preprocess2.load_corpus('./cnatext')\n",
    "cna_docs = preprocess2.corpus2docs(cna_corpus)\n",
    "\n",
    "import gensim\n",
    "sg_dictionary = gensim.corpora.Dictionary(cna_docs)\n",
    "sg_vecs = preprocess2.docs2vecs(cna_docs, sg_dictionary)"
   ]
  },
  {
   "cell_type": "code",
   "execution_count": 6,
   "metadata": {},
   "outputs": [],
   "source": [
    "sg_lda = gensim.models.ldamodel.LdaModel(corpus=sg_vecs, id2word=sg_dictionary, num_topics=5, random_state=20)\n"
   ]
  },
  {
   "cell_type": "code",
   "execution_count": 7,
   "metadata": {
    "scrolled": true
   },
   "outputs": [
    {
     "name": "stdout",
     "output_type": "stream",
     "text": [
      "(0, '0.006*\"team\" + 0.005*\"league\" + 0.004*\"side\" + 0.004*\"game\" + 0.004*\"united\"')\n",
      "(1, '0.004*\"back\" + 0.004*\"win\" + 0.004*\"open\" + 0.003*\"players\" + 0.003*\"team\"')\n",
      "(2, '0.004*\"team\" + 0.004*\"cup\" + 0.003*\"match\" + 0.003*\"game\" + 0.003*\"back\"')\n",
      "(3, '0.007*\"cup\" + 0.005*\"team\" + 0.005*\"league\" + 0.004*\"time\" + 0.004*\"season\"')\n",
      "(4, '0.005*\"league\" + 0.005*\"cup\" + 0.005*\"players\" + 0.005*\"team\" + 0.004*\"win\"')\n"
     ]
    }
   ],
   "source": [
    "topics = sg_lda.show_topics(5, 5) #5 topics and top 5 most frequent words\n",
    "\n",
    "for i in range(0, 5):\n",
    "    print(topics[i])"
   ]
  },
  {
   "cell_type": "code",
   "execution_count": 10,
   "metadata": {},
   "outputs": [],
   "source": [
    "import pyLDAvis\n",
    "import pyLDAvis.gensim_models as gensimvis\n",
    "pyLDAvis.enable_notebook()"
   ]
  },
  {
   "cell_type": "code",
   "execution_count": 11,
   "metadata": {},
   "outputs": [
    {
     "name": "stderr",
     "output_type": "stream",
     "text": [
      "C:\\Users\\jamie\\anaconda3\\lib\\site-packages\\pyLDAvis\\_prepare.py:246: FutureWarning: In a future version of pandas all arguments of DataFrame.drop except for the argument 'labels' will be keyword-only.\n",
      "  default_term_info = default_term_info.sort_values(\n"
     ]
    }
   ],
   "source": [
    "visual= gensimvis.prepare(sg_lda, sg_vecs, sg_dictionary)"
   ]
  },
  {
   "cell_type": "code",
   "execution_count": 12,
   "metadata": {},
   "outputs": [],
   "source": [
    "pyLDAvis.save_html(visual, \"topic_viz.html\")"
   ]
  },
  {
   "cell_type": "code",
   "execution_count": 13,
   "metadata": {},
   "outputs": [],
   "source": [
    "# Compute Perplexity\n",
    "perplex= sg_lda.log_perplexity(sg_vecs, total_docs=None)\n"
   ]
  },
  {
   "cell_type": "code",
   "execution_count": 14,
   "metadata": {},
   "outputs": [
    {
     "name": "stdout",
     "output_type": "stream",
     "text": [
      "\n",
      "Perplexity for LDAModel:  -8.67118381044545\n"
     ]
    }
   ],
   "source": [
    "print('\\nPerplexity for LDAModel: ', perplex)\n"
   ]
  },
  {
   "cell_type": "code",
   "execution_count": 15,
   "metadata": {},
   "outputs": [
    {
     "name": "stdout",
     "output_type": "stream",
     "text": [
      "\n",
      "Coherence Score LDAModel:  0.40122991725922025\n"
     ]
    }
   ],
   "source": [
    "# Compute Coherence\n",
    "from gensim.models import CoherenceModel\n",
    "\n",
    "coherence_model_lda = CoherenceModel(model=sg_lda, texts=cna_docs, dictionary=sg_dictionary, coherence='c_v')\n",
    "coherence_lda = coherence_model_lda.get_coherence()\n",
    "print('\\nCoherence Score LDAModel: ', coherence_lda)"
   ]
  },
  {
   "cell_type": "code",
   "execution_count": 16,
   "metadata": {},
   "outputs": [
    {
     "name": "stdout",
     "output_type": "stream",
     "text": [
      "2023-04-03 23:13:51.495713\n",
      "#Topics: 2 Score: -8.270172463708683\n",
      "#Topics: 3 Score: -8.39908930876653\n",
      "#Topics: 4 Score: -8.539123763812608\n",
      "#Topics: 5 Score: -8.671155667938402\n",
      "#Topics: 6 Score: -8.772956675296545\n",
      "#Topics: 7 Score: -8.88799403919393\n",
      "#Topics: 8 Score: -9.001144735768964\n",
      "#Topics: 9 Score: -9.125839466005113\n",
      "#Topics: 10 Score: -9.233183352709851\n",
      "#Topics: 11 Score: -9.334457423739826\n",
      "#Topics: 12 Score: -9.474109872515712\n",
      "#Topics: 13 Score: -9.589828977784208\n",
      "#Topics: 14 Score: -9.696498129782338\n",
      "#Topics: 15 Score: -9.757276222188775\n",
      "#Topics: 16 Score: -9.875435766427461\n",
      "#Topics: 17 Score: -9.95683545757726\n",
      "#Topics: 18 Score: -10.038640657615984\n",
      "#Topics: 19 Score: -10.17357632312988\n",
      "#Topics: 20 Score: -10.228908585955871\n",
      "2023-04-03 23:13:57.702765\n"
     ]
    }
   ],
   "source": [
    "# Perplexity lower better\n",
    "import datetime\n",
    "print(datetime.datetime.now())\n",
    "\n",
    "from gensim.models import CoherenceModel\n",
    "\n",
    "model_list = []\n",
    "perplexity_values = []\n",
    "model_topics = []\n",
    "\n",
    "for num_topics in range(2, 21, 1):\n",
    "    sg_lda_x = gensim.models.ldamodel.LdaModel(corpus=sg_vecs, id2word=sg_dictionary, num_topics=num_topics, random_state=20)\n",
    "    #sg_lda_x = gensim.models.wrappers.LdaMallet(mallet_path, iterations=100, corpus=sg_vecs, num_topics=no_topics, id2word=sg_dictionary)\n",
    "    perplex= sg_lda_x.log_perplexity(sg_vecs, total_docs=None)\n",
    "    model_topics.append(num_topics)\n",
    "    model_list.append(sg_lda_x)\n",
    "    perplexity_values.append(perplex)\n",
    "    print(\"#Topics: \" + str(num_topics) + \" Score: \" + str(perplex))\n",
    "\n",
    "print(datetime.datetime.now())"
   ]
  },
  {
   "cell_type": "code",
   "execution_count": 17,
   "metadata": {
    "scrolled": false
   },
   "outputs": [
    {
     "name": "stdout",
     "output_type": "stream",
     "text": [
      "2023-04-03 23:13:57.710425\n",
      "#Topics: 2 Score: 0.36083549460045994\n",
      "#Topics: 3 Score: 0.36053114115179113\n",
      "#Topics: 4 Score: 0.39111056349699136\n",
      "#Topics: 5 Score: 0.40122991725922025\n",
      "#Topics: 6 Score: 0.37456498772871233\n",
      "#Topics: 7 Score: 0.3701527103013383\n",
      "#Topics: 8 Score: 0.3653258440860079\n",
      "#Topics: 9 Score: 0.3675343941255129\n",
      "#Topics: 10 Score: 0.3642228092113274\n",
      "#Topics: 11 Score: 0.36190795590246444\n",
      "#Topics: 12 Score: 0.3490770316761482\n",
      "#Topics: 13 Score: 0.3690596411004131\n",
      "#Topics: 14 Score: 0.35869477821105583\n",
      "#Topics: 15 Score: 0.35810114231949103\n",
      "#Topics: 16 Score: 0.35694298337691915\n",
      "#Topics: 17 Score: 0.3685436344650044\n",
      "#Topics: 18 Score: 0.35080254350710516\n",
      "#Topics: 19 Score: 0.34240934621379654\n",
      "#Topics: 20 Score: 0.34665545634434797\n",
      "2023-04-03 23:18:15.296613\n"
     ]
    }
   ],
   "source": [
    "# Coherence higher better\n",
    "import datetime\n",
    "print(datetime.datetime.now())\n",
    "\n",
    "from gensim.models import CoherenceModel\n",
    "\n",
    "model_list = []\n",
    "coherence_values = []\n",
    "model_topics = []\n",
    "\n",
    "for num_topics in range(2, 21, 1):\n",
    "    sg_lda_x = gensim.models.ldamodel.LdaModel(corpus=sg_vecs, id2word=sg_dictionary, num_topics=num_topics, random_state=20)\n",
    "    coherencemodel = CoherenceModel(model=sg_lda_x, texts=cna_docs, dictionary=sg_dictionary, coherence='c_v')\n",
    "    model_topics.append(num_topics)\n",
    "    model_list.append(sg_lda_x)\n",
    "    coherence_values.append(coherencemodel.get_coherence())\n",
    "    print(\"#Topics: \" + str(num_topics) + \" Score: \" + str(coherencemodel.get_coherence()))\n",
    "\n",
    "print(datetime.datetime.now())"
   ]
  },
  {
   "cell_type": "code",
   "execution_count": 18,
   "metadata": {},
   "outputs": [
    {
     "data": {
      "image/png": "[encoded data removed]",
      "text/plain": [
       "<Figure size 432x288 with 1 Axes>"
      ]
     },
     "metadata": {
      "needs_background": "light"
     },
     "output_type": "display_data"
    }
   ],
   "source": [
    "# Show graph for perplexity\n",
    "\n",
    "import matplotlib.pyplot as plt\n",
    "\n",
    "limit=21; start=2; step=1;\n",
    "x = range(start, limit, step)\n",
    "plt.plot(x, perplexity_values)\n",
    "plt.xlabel(\"Num Topics\")\n",
    "plt.ylabel(\"Perplexity score\")\n",
    "plt.legend((\"perplexity_values\"), loc='best')\n",
    "plt.show()"
   ]
  },
  {
   "cell_type": "code",
   "execution_count": 19,
   "metadata": {},
   "outputs": [
    {
     "name": "stdout",
     "output_type": "stream",
     "text": [
      "Num Topics = 2  has Perplexity Value of -8.2702\n",
      "Num Topics = 3  has Perplexity Value of -8.3991\n",
      "Num Topics = 4  has Perplexity Value of -8.5391\n",
      "Num Topics = 5  has Perplexity Value of -8.6712\n",
      "Num Topics = 6  has Perplexity Value of -8.773\n",
      "Num Topics = 7  has Perplexity Value of -8.888\n",
      "Num Topics = 8  has Perplexity Value of -9.0011\n",
      "Num Topics = 9  has Perplexity Value of -9.1258\n",
      "Num Topics = 10  has Perplexity Value of -9.2332\n",
      "Num Topics = 11  has Perplexity Value of -9.3345\n",
      "Num Topics = 12  has Perplexity Value of -9.4741\n",
      "Num Topics = 13  has Perplexity Value of -9.5898\n",
      "Num Topics = 14  has Perplexity Value of -9.6965\n",
      "Num Topics = 15  has Perplexity Value of -9.7573\n",
      "Num Topics = 16  has Perplexity Value of -9.8754\n",
      "Num Topics = 17  has Perplexity Value of -9.9568\n",
      "Num Topics = 18  has Perplexity Value of -10.0386\n",
      "Num Topics = 19  has Perplexity Value of -10.1736\n",
      "Num Topics = 20  has Perplexity Value of -10.2289\n"
     ]
    }
   ],
   "source": [
    "# Print the perplexity scores\n",
    "for m, cv in zip(x, perplexity_values):\n",
    "    print(\"Num Topics =\", m, \" has Perplexity Value of\", round(cv, 4))"
   ]
  },
  {
   "cell_type": "code",
   "execution_count": 20,
   "metadata": {},
   "outputs": [
    {
     "data": {
      "image/png": "[encoded data removed]",
      "text/plain": [
       "<Figure size 432x288 with 1 Axes>"
      ]
     },
     "metadata": {
      "needs_background": "light"
     },
     "output_type": "display_data"
    }
   ],
   "source": [
    "# Show graph for coherence\n",
    "\n",
    "import matplotlib.pyplot as plt\n",
    "\n",
    "limit=21; start=2; step=1;\n",
    "x = range(start, limit, step)\n",
    "plt.plot(x, coherence_values)\n",
    "plt.xlabel(\"Num Topics\")\n",
    "plt.ylabel(\"Coherence score\")\n",
    "plt.legend((\"coherence_values\"), loc='best')\n",
    "plt.show()"
   ]
  },
  {
   "cell_type": "code",
   "execution_count": 21,
   "metadata": {},
   "outputs": [
    {
     "name": "stdout",
     "output_type": "stream",
     "text": [
      "Num Topics = 2  has Coherence Value of 0.3608\n",
      "Num Topics = 3  has Coherence Value of 0.3605\n",
      "Num Topics = 4  has Coherence Value of 0.3911\n",
      "Num Topics = 5  has Coherence Value of 0.4012\n",
      "Num Topics = 6  has Coherence Value of 0.3746\n",
      "Num Topics = 7  has Coherence Value of 0.3702\n",
      "Num Topics = 8  has Coherence Value of 0.3653\n",
      "Num Topics = 9  has Coherence Value of 0.3675\n",
      "Num Topics = 10  has Coherence Value of 0.3642\n",
      "Num Topics = 11  has Coherence Value of 0.3619\n",
      "Num Topics = 12  has Coherence Value of 0.3491\n",
      "Num Topics = 13  has Coherence Value of 0.3691\n",
      "Num Topics = 14  has Coherence Value of 0.3587\n",
      "Num Topics = 15  has Coherence Value of 0.3581\n",
      "Num Topics = 16  has Coherence Value of 0.3569\n",
      "Num Topics = 17  has Coherence Value of 0.3685\n",
      "Num Topics = 18  has Coherence Value of 0.3508\n",
      "Num Topics = 19  has Coherence Value of 0.3424\n",
      "Num Topics = 20  has Coherence Value of 0.3467\n"
     ]
    }
   ],
   "source": [
    "# Print the coherence scores\n",
    "for m, cv in zip(x, coherence_values):\n",
    "    print(\"Num Topics =\", m, \" has Coherence Value of\", round(cv, 4))"
   ]
  },
  {
   "cell_type": "code",
   "execution_count": 22,
   "metadata": {},
   "outputs": [
    {
     "name": "stderr",
     "output_type": "stream",
     "text": [
      "C:\\Users\\jamie\\AppData\\Local\\Temp\\ipykernel_12036\\1924270826.py:18: FutureWarning: The frame.append method is deprecated and will be removed from pandas in a future version. Use pandas.concat instead.\n",
      "  sent_topics_df = sent_topics_df.append(pd.Series([int(topic_num), round(prop_topic,4), topic_keywords]), ignore_index=True)\n",
      "C:\\Users\\jamie\\AppData\\Local\\Temp\\ipykernel_12036\\1924270826.py:18: FutureWarning: The frame.append method is deprecated and will be removed from pandas in a future version. Use pandas.concat instead.\n",
      "  sent_topics_df = sent_topics_df.append(pd.Series([int(topic_num), round(prop_topic,4), topic_keywords]), ignore_index=True)\n"
     ]
    },
    {
     "data": {
      "text/html": [
       "<div>\n",
       "<style scoped>\n",
       "    .dataframe tbody tr th:only-of-type {\n",
       "        vertical-align: middle;\n",
       "    }\n",
       "\n",
       "    .dataframe tbody tr th {\n",
       "        vertical-align: top;\n",
       "    }\n",
       "\n",
       "    .dataframe thead th {\n",
       "        text-align: right;\n",
       "    }\n",
       "</style>\n",
       "<table border=\"1\" class=\"dataframe\">\n",
       "  <thead>\n",
       "    <tr style=\"text-align: right;\">\n",
       "      <th></th>\n",
       "      <th>Document_No</th>\n",
       "      <th>Dominant_Topic</th>\n",
       "      <th>Topic_Perc_Contrib</th>\n",
       "      <th>Keywords</th>\n",
       "      <th>Text</th>\n",
       "    </tr>\n",
       "  </thead>\n",
       "  <tbody>\n",
       "    <tr>\n",
       "      <th>0</th>\n",
       "      <td>0</td>\n",
       "      <td>3</td>\n",
       "      <td>0.7796</td>\n",
       "      <td>cup, team, league, time, season, united, coach...</td>\n",
       "      <td>[london, winners, ac, milan, reached, champion...</td>\n",
       "    </tr>\n",
       "    <tr>\n",
       "      <th>1</th>\n",
       "      <td>1</td>\n",
       "      <td>3</td>\n",
       "      <td>0.8761</td>\n",
       "      <td>cup, team, league, time, season, united, coach...</td>\n",
       "      <td>[munich, bayern, munich, forward, scored, form...</td>\n",
       "    </tr>\n",
       "    <tr>\n",
       "      <th>2</th>\n",
       "      <td>2</td>\n",
       "      <td>2</td>\n",
       "      <td>0.6423</td>\n",
       "      <td>team, cup, match, game, back, athletes, next, ...</td>\n",
       "      <td>[alberta, explore, bid, host, commonwealth, ga...</td>\n",
       "    </tr>\n",
       "    <tr>\n",
       "      <th>3</th>\n",
       "      <td>3</td>\n",
       "      <td>0</td>\n",
       "      <td>0.9963</td>\n",
       "      <td>team, league, side, game, united, home, second...</td>\n",
       "      <td>[lisbon, clinical, benfica, thrashed, club, br...</td>\n",
       "    </tr>\n",
       "    <tr>\n",
       "      <th>4</th>\n",
       "      <td>4</td>\n",
       "      <td>4</td>\n",
       "      <td>0.9942</td>\n",
       "      <td>league, cup, players, team, win, time, coach, ...</td>\n",
       "      <td>[london, ac, milan, affected, weekend, serie, ...</td>\n",
       "    </tr>\n",
       "    <tr>\n",
       "      <th>5</th>\n",
       "      <td>5</td>\n",
       "      <td>2</td>\n",
       "      <td>0.9948</td>\n",
       "      <td>team, cup, match, game, back, athletes, next, ...</td>\n",
       "      <td>[aston, martin, driver, lance, stroll, detaile...</td>\n",
       "    </tr>\n",
       "    <tr>\n",
       "      <th>6</th>\n",
       "      <td>6</td>\n",
       "      <td>4</td>\n",
       "      <td>0.9926</td>\n",
       "      <td>league, cup, players, team, win, time, coach, ...</td>\n",
       "      <td>[london, second, tier, english, side, watford,...</td>\n",
       "    </tr>\n",
       "    <tr>\n",
       "      <th>7</th>\n",
       "      <td>7</td>\n",
       "      <td>2</td>\n",
       "      <td>0.9964</td>\n",
       "      <td>team, cup, match, game, back, athletes, next, ...</td>\n",
       "      <td>[uefa, refund, liverpool, fans, attended, cham...</td>\n",
       "    </tr>\n",
       "    <tr>\n",
       "      <th>8</th>\n",
       "      <td>8</td>\n",
       "      <td>1</td>\n",
       "      <td>0.6923</td>\n",
       "      <td>back, win, open, players, team, time, play, se...</td>\n",
       "      <td>[reliability, top, concern, ferrari, boss, fre...</td>\n",
       "    </tr>\n",
       "    <tr>\n",
       "      <th>9</th>\n",
       "      <td>9</td>\n",
       "      <td>0</td>\n",
       "      <td>0.6318</td>\n",
       "      <td>team, league, side, game, united, home, second...</td>\n",
       "      <td>[tottenham, hotspur, boss, antonio, conte, und...</td>\n",
       "    </tr>\n",
       "  </tbody>\n",
       "</table>\n",
       "</div>"
      ],
      "text/plain": [
       "   Document_No  Dominant_Topic  Topic_Perc_Contrib  \\\n",
       "0            0               3              0.7796   \n",
       "1            1               3              0.8761   \n",
       "2            2               2              0.6423   \n",
       "3            3               0              0.9963   \n",
       "4            4               4              0.9942   \n",
       "5            5               2              0.9948   \n",
       "6            6               4              0.9926   \n",
       "7            7               2              0.9964   \n",
       "8            8               1              0.6923   \n",
       "9            9               0              0.6318   \n",
       "\n",
       "                                            Keywords  \\\n",
       "0  cup, team, league, time, season, united, coach...   \n",
       "1  cup, team, league, time, season, united, coach...   \n",
       "2  team, cup, match, game, back, athletes, next, ...   \n",
       "3  team, league, side, game, united, home, second...   \n",
       "4  league, cup, players, team, win, time, coach, ...   \n",
       "5  team, cup, match, game, back, athletes, next, ...   \n",
       "6  league, cup, players, team, win, time, coach, ...   \n",
       "7  team, cup, match, game, back, athletes, next, ...   \n",
       "8  back, win, open, players, team, time, play, se...   \n",
       "9  team, league, side, game, united, home, second...   \n",
       "\n",
       "                                                Text  \n",
       "0  [london, winners, ac, milan, reached, champion...  \n",
       "1  [munich, bayern, munich, forward, scored, form...  \n",
       "2  [alberta, explore, bid, host, commonwealth, ga...  \n",
       "3  [lisbon, clinical, benfica, thrashed, club, br...  \n",
       "4  [london, ac, milan, affected, weekend, serie, ...  \n",
       "5  [aston, martin, driver, lance, stroll, detaile...  \n",
       "6  [london, second, tier, english, side, watford,...  \n",
       "7  [uefa, refund, liverpool, fans, attended, cham...  \n",
       "8  [reliability, top, concern, ferrari, boss, fre...  \n",
       "9  [tottenham, hotspur, boss, antonio, conte, und...  "
      ]
     },
     "execution_count": 22,
     "metadata": {},
     "output_type": "execute_result"
    }
   ],
   "source": [
    "#Find most dominant topic\n",
    "\n",
    "import numpy as np\n",
    "import pandas as pd\n",
    "\n",
    "def format_topics_sentences(ldamodel, corpus, data):\n",
    "    # Init output\n",
    "    sent_topics_df = pd.DataFrame()\n",
    "\n",
    "    # Get main topic in each document\n",
    "    for i, row in enumerate(ldamodel[corpus]):\n",
    "        row = sorted(row, key=lambda x: (x[1]), reverse=True)\n",
    "        # Get the Dominant topic, Perc Contribution and Keywords for each document\n",
    "        for j, (topic_num, prop_topic) in enumerate(row):\n",
    "            if j == 0:  # => dominant topic\n",
    "                wp = ldamodel.show_topic(topic_num)\n",
    "                topic_keywords = \", \".join([word for word, prop in wp])\n",
    "                sent_topics_df = sent_topics_df.append(pd.Series([int(topic_num), round(prop_topic,4), topic_keywords]), ignore_index=True)\n",
    "            else:\n",
    "                break\n",
    "    sent_topics_df.columns = ['Dominant_Topic', 'Perc_Contribution', 'Topic_Keywords']\n",
    "\n",
    "    # Add original text to the end of the output\n",
    "    contents = pd.Series(data)\n",
    "    sent_topics_df = pd.concat([sent_topics_df, contents], axis=1)\n",
    "    return(sent_topics_df)\n",
    "\n",
    "#I choose model_list[2] where the number of topics is 6\n",
    "\n",
    "df_topic_sents_keywords = format_topics_sentences(ldamodel=model_list[3], corpus=sg_vecs, data=cna_docs)\n",
    "\n",
    "# Format\n",
    "df_dominant_topic = df_topic_sents_keywords.reset_index()\n",
    "df_dominant_topic.columns = ['Document_No', 'Dominant_Topic', 'Topic_Perc_Contrib', 'Keywords', 'Text']\n",
    "\n",
    "# Show\n",
    "df_dominant_topic.head(10)\n"
   ]
  },
  {
   "cell_type": "code",
   "execution_count": 23,
   "metadata": {},
   "outputs": [],
   "source": [
    "sg_lda_sav=model_list[3] \n",
    "\n",
    "sg_lda_sav.save(\"model_5Topics\")\n",
    "\n",
    "lda_disk=gensim.models.ldamodel.LdaModel.load(\"model_5Topics\")"
   ]
  },
  {
   "cell_type": "code",
   "execution_count": 24,
   "metadata": {},
   "outputs": [],
   "source": [
    "import pandas as pd\n",
    "\n",
    "vec=sg_lda_sav[sg_vecs]\n",
    "pd.DataFrame(vec).to_csv(\"doc_topic_mixture.csv\")"
   ]
  },
  {
   "cell_type": "code",
   "execution_count": 26,
   "metadata": {},
   "outputs": [],
   "source": [
    "top_words_per_topic = []\n",
    "for t in range(sg_lda_sav.num_topics):\n",
    "    top_words_per_topic.extend([(t, ) + x for x in sg_lda_sav.show_topic(t, topn = 10)])\n",
    "\n",
    "pd.DataFrame(top_words_per_topic, columns=['Topic', 'Word', 'P']).to_csv(\"top_words.csv\")\n"
   ]
  }
 ],
 "metadata": {
  "kernelspec": {
   "display_name": "Python 3 (ipykernel)",
   "language": "python",
   "name": "python3"
  },
  "language_info": {
   "codemirror_mode": {
    "name": "ipython",
    "version": 3
   },
   "file_extension": ".py",
   "mimetype": "text/x-python",
   "name": "python",
   "nbconvert_exporter": "python",
   "pygments_lexer": "ipython3",
   "version": "3.9.12"
  }
 },
 "nbformat": 4,
 "nbformat_minor": 2
}
