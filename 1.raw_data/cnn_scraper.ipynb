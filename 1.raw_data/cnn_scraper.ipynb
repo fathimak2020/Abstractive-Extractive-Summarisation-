{
 "cells": [
  {
   "cell_type": "code",
   "execution_count": 1,
   "id": "0446c7e7",
   "metadata": {},
   "outputs": [],
   "source": [
    "# !pip install beautifulsoup4\n",
    "# !pip install requests\n",
    "# !pip install newspaper3k"
   ]
  },
  {
   "cell_type": "markdown",
   "id": "a2c3ab49",
   "metadata": {},
   "source": [
    "This notebook scrapes for sports articles from https://edition.cnn.com/sport, which is the sports category in CNA."
   ]
  },
  {
   "cell_type": "markdown",
   "id": "329c651b",
   "metadata": {},
   "source": [
    "## Import packages"
   ]
  },
  {
   "cell_type": "code",
   "execution_count": 2,
   "id": "2160cdcc",
   "metadata": {},
   "outputs": [],
   "source": [
    "import requests\n",
    "from bs4 import BeautifulSoup\n",
    "import pandas as pd"
   ]
  },
  {
   "cell_type": "markdown",
   "id": "a6b9bfd1",
   "metadata": {},
   "source": [
    "## Set link to scrape data from"
   ]
  },
  {
   "cell_type": "code",
   "execution_count": 3,
   "id": "74c5dec0",
   "metadata": {},
   "outputs": [],
   "source": [
    "r1 = requests.get('https://edition.cnn.com/sport')\n",
    "coverpage = r1.content\n",
    "soup1 = BeautifulSoup(coverpage, \"html.parser\")\n",
    "sports_news = soup1.find_all(\"a\", href=True)"
   ]
  },
  {
   "cell_type": "markdown",
   "id": "e160d8fe",
   "metadata": {},
   "source": [
    "## Collect top sports news links for the day"
   ]
  },
  {
   "cell_type": "code",
   "execution_count": 6,
   "id": "14d79b12",
   "metadata": {},
   "outputs": [
    {
     "data": {
      "text/plain": [
       "{'/2023/02/20/sport/anderson-comas-gay-chicago-white-sox-spt-intl',\n",
       " '/2023/02/22/football/palestianian-national-soccer-team-world-cup-spt-intl',\n",
       " '/2023/02/24/sport/boxing-olympics-chaos-iba-usa-spt-intl',\n",
       " '/2023/02/26/sport/byron-jones-nfl-injuries-spt-intl',\n",
       " '/2023/02/27/football/super-league-documentary-football-jeff-zimbalist-spt-intl',\n",
       " '/2023/02/27/golf/chris-kirk-alcoholism-depression-honda-classic-spt-intl',\n",
       " '/2023/02/27/sport/damian-lillard-71-points-record-nba-spt-intl',\n",
       " '/2023/02/27/tennis/novak-djokovic-steffi-graf-record-tennis-spt-intl',\n",
       " '/2023/02/28/football/fifa-best-awards-lionel-messi-alexia-putellas-spt-intl',\n",
       " '/2023/02/28/golf/the-masters-food-concessions-kit-spc-spt-intl',\n",
       " '/2023/03/02/golf/pga-tour-designated-events-liv-golf-spt-intl',\n",
       " '/2023/03/02/motorsport/fernando-alonso-formula-one-aston-martin-spt-intl',\n",
       " '/2023/03/03/sport/nfl-players-report-cards-teams-spt-intl',\n",
       " '/2023/03/06/football/blackpool-fan-death-burnley-football-spt-intl',\n",
       " '/2023/03/06/football/moustapha-sylla-ivory-coast-death-spt-intl',\n",
       " '/2023/03/06/football/world-cup-final-penalty-shootout-spt-intl',\n",
       " '/2023/03/06/golf/ko-jin-young-injury-womens-world-championship-spt-intl',\n",
       " '/2023/03/06/sport/nfl-calvin-ridley-gambling-reinstated-spt',\n",
       " '/2023/03/06/tennis/marta-kostyuk-ukraine-russia-wta-spt-intl',\n",
       " '/2023/03/06/tennis/novak-djokovic-bnp-paribas-open-visa-tennis-spt-intl',\n",
       " '/2023/03/07/football/liverpool-uefa-refund-champions-league-final-spt-intl',\n",
       " '/2023/03/07/football/neymar-ankle-injury-paris-saint-germain-spt-intl',\n",
       " '/2023/03/07/golf/brooks-koepka-funk-major-spt-spc-intl',\n",
       " '/2023/03/07/sport/conor-benn-doping-analysis-reaction-spt-intl',\n",
       " '/2023/03/07/sport/justin-turner-pitch-face-red-sox-spt-intl',\n",
       " '/2023/03/07/sport/minnesota-vikings-kj-osborn-car-spt-intl',\n",
       " '/2023/03/08/football/chelsea-champions-league-win-borussia-dortmund-spt-intl',\n",
       " '/2023/03/08/football/megan-rapinoe-equal-pay-intl-spt',\n",
       " '/2023/03/08/football/south-african-footballer-siphamandla-mtolo-dies-spt-intl',\n",
       " '/2023/03/08/sport/cuba-womens-boxing-olympics-spt-intl',\n",
       " '/2023/03/08/sport/ja-morant-memphis-grizzzlies-gun-lakers-loss-spt-intl',\n",
       " '/2023/03/08/tennis/novak-djokovic-ron-desantis-miami-open-intl-spt'}"
      ]
     },
     "execution_count": 6,
     "metadata": {},
     "output_type": "execute_result"
    }
   ],
   "source": [
    "links = []\n",
    "\n",
    "for i in range(len(sports_news)):\n",
    "    if \"/sport/\" and \"/2023/\" in sports_news[i]['href']:\n",
    "        if \"/videos/\" not in sports_news[i]['href']:\n",
    "            links.append(sports_news[i]['href'])\n",
    "\n",
    "links = set(links)\n",
    "# links"
   ]
  },
  {
   "cell_type": "code",
   "execution_count": 8,
   "id": "d6ebaddb",
   "metadata": {},
   "outputs": [],
   "source": [
    "domain = 'https://edition.cnn.com/'\n",
    "url_list = []\n",
    "content_list = []\n",
    "my_text = {}\n",
    "bad_links = []"
   ]
  },
  {
   "cell_type": "code",
   "execution_count": 9,
   "id": "b1cfbc60",
   "metadata": {},
   "outputs": [],
   "source": [
    "from newspaper import Article\n",
    "\n",
    "for l in links:\n",
    "    try:\n",
    "        url = domain + l[1:]\n",
    "        article = Article(url)\n",
    "        article.download()\n",
    "        article.parse()\n",
    "        my_text[url] = article.text\n",
    "        url_list.append(url)\n",
    "        content_list.append(article.text)\n",
    "    except:\n",
    "        bad_links.append(url)\n"
   ]
  },
  {
   "cell_type": "markdown",
   "id": "91798f61",
   "metadata": {},
   "source": [
    "## Check how many articles were collected"
   ]
  },
  {
   "cell_type": "code",
   "execution_count": 7,
   "id": "7ee95e50",
   "metadata": {},
   "outputs": [
    {
     "data": {
      "text/plain": [
       "32"
      ]
     },
     "execution_count": 7,
     "metadata": {},
     "output_type": "execute_result"
    }
   ],
   "source": [
    "len(links)"
   ]
  },
  {
   "cell_type": "markdown",
   "id": "b5e218cf",
   "metadata": {},
   "source": [
    "## Write data to csv"
   ]
  },
  {
   "cell_type": "code",
   "execution_count": 12,
   "id": "86724612",
   "metadata": {},
   "outputs": [],
   "source": [
    "import pandas as pd\n",
    "df = pd.DataFrame(zip(url_list, content_list), columns=['url', 'content'])\n",
    "df.to_csv('cnn_9mar.csv')"
   ]
  }
 ],
 "metadata": {
  "kernelspec": {
   "display_name": "Python 3 (ipykernel)",
   "language": "python",
   "name": "python3"
  },
  "language_info": {
   "codemirror_mode": {
    "name": "ipython",
    "version": 3
   },
   "file_extension": ".py",
   "mimetype": "text/x-python",
   "name": "python",
   "nbconvert_exporter": "python",
   "pygments_lexer": "ipython3",
   "version": "3.10.9"
  },
  "vscode": {
   "interpreter": {
    "hash": "f1743dd6e86e6d924867f0bc86ba4fb15235e1c840bf26466f93065a93459926"
   }
  }
 },
 "nbformat": 4,
 "nbformat_minor": 5
}
