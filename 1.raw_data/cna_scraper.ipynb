{
 "cells": [
  {
   "cell_type": "code",
   "execution_count": 1,
   "id": "bee5a4ee",
   "metadata": {},
   "outputs": [],
   "source": [
    "# !pip install beautifulsoup4\n",
    "# !pip install requests\n",
    "# !pip install newspaper3k"
   ]
  },
  {
   "cell_type": "markdown",
   "id": "adff8a26",
   "metadata": {},
   "source": [
    "This notebook scrapes for sports articles from https://www.channelnewsasia.com/sport, which is the sports category in CNA."
   ]
  },
  {
   "cell_type": "markdown",
   "id": "484b9c39",
   "metadata": {},
   "source": [
    "## Import packages"
   ]
  },
  {
   "cell_type": "code",
   "execution_count": 2,
   "id": "454ac626",
   "metadata": {},
   "outputs": [],
   "source": [
    "import requests\n",
    "from bs4 import BeautifulSoup\n",
    "import pandas as pd"
   ]
  },
  {
   "cell_type": "markdown",
   "id": "f8b4ac9f",
   "metadata": {},
   "source": [
    "## Set link to scrape data from"
   ]
  },
  {
   "cell_type": "code",
   "execution_count": 3,
   "id": "ae8d219d",
   "metadata": {},
   "outputs": [],
   "source": [
    "cna_r = requests.get(\"https://www.channelnewsasia.com/sport\")\n",
    "coverpage = cna_r.content\n",
    "soup1 = BeautifulSoup(coverpage, 'html.parser')\n",
    "cna_r = soup1.find_all('a', href=True)"
   ]
  },
  {
   "cell_type": "markdown",
   "id": "ffa8a8d0",
   "metadata": {},
   "source": [
    "## Collect top sports news links for the day"
   ]
  },
  {
   "cell_type": "code",
   "execution_count": 6,
   "id": "d8de4829",
   "metadata": {},
   "outputs": [],
   "source": [
    "links = []\n",
    "\n",
    "for i in range(len(cna_r)):\n",
    "    cur_link = cna_r[i]['href']\n",
    "    if cur_link[0:7] == \"/sport/\":\n",
    "        links.append(cur_link)\n",
    "\n",
    "links"
   ]
  },
  {
   "cell_type": "code",
   "execution_count": 7,
   "id": "63c13f5d",
   "metadata": {},
   "outputs": [],
   "source": [
    "domain = 'https://www.channelnewsasia.com' #domain + link = url to article\n",
    "url_list = []\n",
    "content_list = []\n",
    "\n",
    "news_texts = {} #stores article content in {link : content} format\n",
    "\n",
    "bad_links = [] #links which could not have their content scraped"
   ]
  },
  {
   "cell_type": "code",
   "execution_count": 8,
   "id": "1359ca83",
   "metadata": {},
   "outputs": [],
   "source": [
    "from newspaper import Article\n",
    "\n",
    "for l in links:\n",
    "    try:\n",
    "        url = domain + l\n",
    "        article = Article(url)\n",
    "        article.download()\n",
    "        article.parse()\n",
    "        news_texts[url] = [article.text]\n",
    "        url_list.append(url)\n",
    "        content_list.append(article.text)\n",
    "    except:\n",
    "        bad_links.append(url)"
   ]
  },
  {
   "cell_type": "markdown",
   "id": "9af80664",
   "metadata": {},
   "source": [
    "## Check how many articles were collected"
   ]
  },
  {
   "cell_type": "code",
   "execution_count": 10,
   "id": "762d8db4",
   "metadata": {},
   "outputs": [
    {
     "data": {
      "text/plain": [
       "21"
      ]
     },
     "execution_count": 10,
     "metadata": {},
     "output_type": "execute_result"
    }
   ],
   "source": [
    "len(news_texts)"
   ]
  },
  {
   "cell_type": "markdown",
   "id": "8dabf002",
   "metadata": {},
   "source": [
    "## Write data to csv"
   ]
  },
  {
   "cell_type": "code",
   "execution_count": 11,
   "id": "7915f082",
   "metadata": {},
   "outputs": [],
   "source": [
    "df = pd.DataFrame(list(zip(url_list, content_list)), columns =['url', 'content'])\n",
    "df.drop_duplicates(inplace=True)\n",
    "\n",
    "# rename the file\n",
    "df.to_csv('cna_sports_9mar.csv')"
   ]
  }
 ],
 "metadata": {
  "kernelspec": {
   "display_name": "Python 3 (ipykernel)",
   "language": "python",
   "name": "python3"
  },
  "language_info": {
   "codemirror_mode": {
    "name": "ipython",
    "version": 3
   },
   "file_extension": ".py",
   "mimetype": "text/x-python",
   "name": "python",
   "nbconvert_exporter": "python",
   "pygments_lexer": "ipython3",
   "version": "3.10.9"
  },
  "vscode": {
   "interpreter": {
    "hash": "f1743dd6e86e6d924867f0bc86ba4fb15235e1c840bf26466f93065a93459926"
   }
  }
 },
 "nbformat": 4,
 "nbformat_minor": 5
}
