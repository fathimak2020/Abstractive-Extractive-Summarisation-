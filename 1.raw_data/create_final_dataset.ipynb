{
 "cells": [
  {
   "cell_type": "markdown",
   "id": "5f5c3893",
   "metadata": {},
   "source": [
    "## Import packages"
   ]
  },
  {
   "cell_type": "code",
   "execution_count": 1,
   "id": "bc34e425",
   "metadata": {},
   "outputs": [],
   "source": [
    "# !pip install newspaper3k\n",
    "from newspaper import Article\n",
    "import pandas as pd\n",
    "import glob"
   ]
  },
  {
   "cell_type": "markdown",
   "id": "38227231",
   "metadata": {},
   "source": [
    "## Combine raw CNN news data"
   ]
  },
  {
   "cell_type": "code",
   "execution_count": 2,
   "id": "07a911b2",
   "metadata": {},
   "outputs": [
    {
     "data": {
      "text/html": [
       "<div>\n",
       "<style scoped>\n",
       "    .dataframe tbody tr th:only-of-type {\n",
       "        vertical-align: middle;\n",
       "    }\n",
       "\n",
       "    .dataframe tbody tr th {\n",
       "        vertical-align: top;\n",
       "    }\n",
       "\n",
       "    .dataframe thead th {\n",
       "        text-align: right;\n",
       "    }\n",
       "</style>\n",
       "<table border=\"1\" class=\"dataframe\">\n",
       "  <thead>\n",
       "    <tr style=\"text-align: right;\">\n",
       "      <th></th>\n",
       "      <th>url</th>\n",
       "    </tr>\n",
       "  </thead>\n",
       "  <tbody>\n",
       "    <tr>\n",
       "      <th>0</th>\n",
       "      <td>https://edition.cnn.com/2023/02/28/sport/los-a...</td>\n",
       "    </tr>\n",
       "    <tr>\n",
       "      <th>1</th>\n",
       "      <td>https://edition.cnn.com/2023/02/16/sport/lesle...</td>\n",
       "    </tr>\n",
       "    <tr>\n",
       "      <th>2</th>\n",
       "      <td>https://edition.cnn.com/2023/02/27/sport/damia...</td>\n",
       "    </tr>\n",
       "    <tr>\n",
       "      <th>3</th>\n",
       "      <td>https://edition.cnn.com/2023/02/27/football/su...</td>\n",
       "    </tr>\n",
       "    <tr>\n",
       "      <th>4</th>\n",
       "      <td>https://edition.cnn.com/2023/02/22/football/pa...</td>\n",
       "    </tr>\n",
       "    <tr>\n",
       "      <th>...</th>\n",
       "      <td>...</td>\n",
       "    </tr>\n",
       "    <tr>\n",
       "      <th>207</th>\n",
       "      <td>https://edition.cnn.com/2023/02/20/sport/ander...</td>\n",
       "    </tr>\n",
       "    <tr>\n",
       "      <th>208</th>\n",
       "      <td>https://edition.cnn.com/2023/02/27/golf/chris-...</td>\n",
       "    </tr>\n",
       "    <tr>\n",
       "      <th>209</th>\n",
       "      <td>https://edition.cnn.com/2023/03/06/sport/ja-mo...</td>\n",
       "    </tr>\n",
       "    <tr>\n",
       "      <th>210</th>\n",
       "      <td>https://edition.cnn.com/2023/03/06/football/wo...</td>\n",
       "    </tr>\n",
       "    <tr>\n",
       "      <th>211</th>\n",
       "      <td>https://edition.cnn.com/2023/02/27/sport/damia...</td>\n",
       "    </tr>\n",
       "  </tbody>\n",
       "</table>\n",
       "<p>212 rows × 1 columns</p>\n",
       "</div>"
      ],
      "text/plain": [
       "                                                   url\n",
       "0    https://edition.cnn.com/2023/02/28/sport/los-a...\n",
       "1    https://edition.cnn.com/2023/02/16/sport/lesle...\n",
       "2    https://edition.cnn.com/2023/02/27/sport/damia...\n",
       "3    https://edition.cnn.com/2023/02/27/football/su...\n",
       "4    https://edition.cnn.com/2023/02/22/football/pa...\n",
       "..                                                 ...\n",
       "207  https://edition.cnn.com/2023/02/20/sport/ander...\n",
       "208  https://edition.cnn.com/2023/02/27/golf/chris-...\n",
       "209  https://edition.cnn.com/2023/03/06/sport/ja-mo...\n",
       "210  https://edition.cnn.com/2023/03/06/football/wo...\n",
       "211  https://edition.cnn.com/2023/02/27/sport/damia...\n",
       "\n",
       "[212 rows x 1 columns]"
      ]
     },
     "execution_count": 2,
     "metadata": {},
     "output_type": "execute_result"
    }
   ],
   "source": [
    "path = r'../raw_data/cnn_news'\n",
    "all_files = glob.glob(path + \"/*.csv\")\n",
    "\n",
    "df_list = (pd.read_csv(file, encoding='utf-8-sig') for file in all_files)\n",
    "\n",
    "combined_df   = pd.concat(df_list, ignore_index=True)\n",
    "combined_df = combined_df.loc[:,['url']]\n",
    "combined_df"
   ]
  },
  {
   "cell_type": "markdown",
   "id": "f5f865ab",
   "metadata": {},
   "source": [
    "## Collecting url, title, text, authors and date for each article"
   ]
  },
  {
   "cell_type": "code",
   "execution_count": 3,
   "id": "337998b4",
   "metadata": {},
   "outputs": [],
   "source": [
    "url = []\n",
    "title = []\n",
    "text = []\n",
    "authors = []\n",
    "date = []\n",
    "\n",
    "for l in combined_df.url:\n",
    "    try:\n",
    "        article = Article(l)\n",
    "        article.download()\n",
    "        article.parse()\n",
    "        url.append(l)\n",
    "        text.append(article.text)\n",
    "        title.append(article.title)\n",
    "        authors.append(article.authors)\n",
    "        date.append(article.publish_date)\n",
    "    except:\n",
    "        continue\n",
    "\n",
    "df = pd.DataFrame(list(zip(url, title, text, authors, date)), columns=['url', 'title', 'text', 'author', 'date'])"
   ]
  },
  {
   "cell_type": "code",
   "execution_count": 4,
   "id": "ac307244",
   "metadata": {},
   "outputs": [],
   "source": [
    "df.to_csv(\"cnn_raw_final.csv\")"
   ]
  },
  {
   "cell_type": "markdown",
   "id": "6f825acb",
   "metadata": {},
   "source": [
    "## Combine raw CNA news data"
   ]
  },
  {
   "cell_type": "code",
   "execution_count": 7,
   "id": "23205db6",
   "metadata": {},
   "outputs": [
    {
     "data": {
      "text/html": [
       "<div>\n",
       "<style scoped>\n",
       "    .dataframe tbody tr th:only-of-type {\n",
       "        vertical-align: middle;\n",
       "    }\n",
       "\n",
       "    .dataframe tbody tr th {\n",
       "        vertical-align: top;\n",
       "    }\n",
       "\n",
       "    .dataframe thead th {\n",
       "        text-align: right;\n",
       "    }\n",
       "</style>\n",
       "<table border=\"1\" class=\"dataframe\">\n",
       "  <thead>\n",
       "    <tr style=\"text-align: right;\">\n",
       "      <th></th>\n",
       "      <th>url</th>\n",
       "    </tr>\n",
       "  </thead>\n",
       "  <tbody>\n",
       "    <tr>\n",
       "      <th>0</th>\n",
       "      <td>https://www.channelnewsasia.com/sport/steely-m...</td>\n",
       "    </tr>\n",
       "    <tr>\n",
       "      <th>1</th>\n",
       "      <td>https://www.channelnewsasia.com/sport/choupo-m...</td>\n",
       "    </tr>\n",
       "    <tr>\n",
       "      <th>2</th>\n",
       "      <td>https://www.channelnewsasia.com/sport/chelsea-...</td>\n",
       "    </tr>\n",
       "    <tr>\n",
       "      <th>3</th>\n",
       "      <td>https://www.channelnewsasia.com/sport/nothing-...</td>\n",
       "    </tr>\n",
       "    <tr>\n",
       "      <th>4</th>\n",
       "      <td>https://www.channelnewsasia.com/sport/contes-c...</td>\n",
       "    </tr>\n",
       "    <tr>\n",
       "      <th>...</th>\n",
       "      <td>...</td>\n",
       "    </tr>\n",
       "    <tr>\n",
       "      <th>140</th>\n",
       "      <td>https://www.channelnewsasia.com/sport/fa-cup-q...</td>\n",
       "    </tr>\n",
       "    <tr>\n",
       "      <th>141</th>\n",
       "      <td>https://www.channelnewsasia.com/sport/man-unit...</td>\n",
       "    </tr>\n",
       "    <tr>\n",
       "      <th>142</th>\n",
       "      <td>https://www.channelnewsasia.com/sport/formula-...</td>\n",
       "    </tr>\n",
       "    <tr>\n",
       "      <th>143</th>\n",
       "      <td>https://www.channelnewsasia.com/sport/prop-hao...</td>\n",
       "    </tr>\n",
       "    <tr>\n",
       "      <th>144</th>\n",
       "      <td>https://www.channelnewsasia.com/sport/police-c...</td>\n",
       "    </tr>\n",
       "  </tbody>\n",
       "</table>\n",
       "<p>145 rows × 1 columns</p>\n",
       "</div>"
      ],
      "text/plain": [
       "                                                   url\n",
       "0    https://www.channelnewsasia.com/sport/steely-m...\n",
       "1    https://www.channelnewsasia.com/sport/choupo-m...\n",
       "2    https://www.channelnewsasia.com/sport/chelsea-...\n",
       "3    https://www.channelnewsasia.com/sport/nothing-...\n",
       "4    https://www.channelnewsasia.com/sport/contes-c...\n",
       "..                                                 ...\n",
       "140  https://www.channelnewsasia.com/sport/fa-cup-q...\n",
       "141  https://www.channelnewsasia.com/sport/man-unit...\n",
       "142  https://www.channelnewsasia.com/sport/formula-...\n",
       "143  https://www.channelnewsasia.com/sport/prop-hao...\n",
       "144  https://www.channelnewsasia.com/sport/police-c...\n",
       "\n",
       "[145 rows x 1 columns]"
      ]
     },
     "execution_count": 7,
     "metadata": {},
     "output_type": "execute_result"
    }
   ],
   "source": [
    "path = r'../raw_data/cna_news'\n",
    "all_files = glob.glob(path + \"/*.csv\")\n",
    "\n",
    "df_list = (pd.read_csv(file, encoding='utf-8-sig') for file in all_files)\n",
    "\n",
    "combined_df   = pd.concat(df_list, ignore_index=True)\n",
    "combined_df = combined_df.loc[:,['url']]\n",
    "combined_df"
   ]
  },
  {
   "cell_type": "markdown",
   "id": "8fa2826b",
   "metadata": {},
   "source": [
    "## Collecting url, title, text, authors and date for each article"
   ]
  },
  {
   "cell_type": "code",
   "execution_count": 8,
   "id": "e1b25cf5",
   "metadata": {},
   "outputs": [],
   "source": [
    "url = []\n",
    "title = []\n",
    "text = []\n",
    "authors = []\n",
    "date = []\n",
    "\n",
    "for l in combined_df.url:\n",
    "    try:\n",
    "        article = Article(l)\n",
    "        article.download()\n",
    "        article.parse()\n",
    "        url.append(l)\n",
    "        text.append(article.text)\n",
    "        title.append(article.title)\n",
    "        authors.append(article.authors)\n",
    "        date.append(article.publish_date)\n",
    "    except:\n",
    "        continue\n",
    "\n",
    "df = pd.DataFrame(list(zip(url, title, text, authors, date)), columns=['url', 'title', 'text', 'author', 'date'])"
   ]
  },
  {
   "cell_type": "code",
   "execution_count": 9,
   "id": "88620e58",
   "metadata": {},
   "outputs": [],
   "source": [
    "df.to_csv(\"cna_raw_final.csv\")"
   ]
  }
 ],
 "metadata": {
  "kernelspec": {
   "display_name": "Python 3 (ipykernel)",
   "language": "python",
   "name": "python3"
  },
  "language_info": {
   "codemirror_mode": {
    "name": "ipython",
    "version": 3
   },
   "file_extension": ".py",
   "mimetype": "text/x-python",
   "name": "python",
   "nbconvert_exporter": "python",
   "pygments_lexer": "ipython3",
   "version": "3.10.9"
  }
 },
 "nbformat": 4,
 "nbformat_minor": 5
}
