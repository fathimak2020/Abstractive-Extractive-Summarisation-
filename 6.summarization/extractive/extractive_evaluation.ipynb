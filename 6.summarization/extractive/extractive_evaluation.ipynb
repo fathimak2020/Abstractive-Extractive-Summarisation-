{
 "cells": [
  {
   "cell_type": "code",
   "execution_count": 1,
   "id": "91abbabb",
   "metadata": {},
   "outputs": [],
   "source": [
    "# !pip install rouge-metric\n",
    "# !pip install evaluate"
   ]
  },
  {
   "cell_type": "markdown",
   "id": "d134ac68",
   "metadata": {},
   "source": [
    "## Import packages"
   ]
  },
  {
   "cell_type": "code",
   "execution_count": 1,
   "id": "48bc1998",
   "metadata": {},
   "outputs": [],
   "source": [
    "from rouge_metric import PyRouge\n",
    "import pandas as pd"
   ]
  },
  {
   "cell_type": "markdown",
   "id": "0e785029",
   "metadata": {},
   "source": [
    "## Read file"
   ]
  },
  {
   "cell_type": "code",
   "execution_count": 2,
   "id": "4665a1b2",
   "metadata": {},
   "outputs": [
    {
     "data": {
      "text/plain": [
       "(221, 3)"
      ]
     },
     "execution_count": 2,
     "metadata": {},
     "output_type": "execute_result"
    }
   ],
   "source": [
    "df = pd.read_csv(\"extractive_summary.csv\")\n",
    "df = df[['url', 'bert_extractive', 'gold_truth']]\n",
    "df.shape"
   ]
  },
  {
   "cell_type": "code",
   "execution_count": 3,
   "id": "fe9cbf4b",
   "metadata": {},
   "outputs": [
    {
     "data": {
      "text/html": [
       "<div>\n",
       "<style scoped>\n",
       "    .dataframe tbody tr th:only-of-type {\n",
       "        vertical-align: middle;\n",
       "    }\n",
       "\n",
       "    .dataframe tbody tr th {\n",
       "        vertical-align: top;\n",
       "    }\n",
       "\n",
       "    .dataframe thead th {\n",
       "        text-align: right;\n",
       "    }\n",
       "</style>\n",
       "<table border=\"1\" class=\"dataframe\">\n",
       "  <thead>\n",
       "    <tr style=\"text-align: right;\">\n",
       "      <th></th>\n",
       "      <th>url</th>\n",
       "      <th>bert_extractive</th>\n",
       "      <th>gold_truth</th>\n",
       "    </tr>\n",
       "  </thead>\n",
       "  <tbody>\n",
       "    <tr>\n",
       "      <th>0</th>\n",
       "      <td>https://edition.cnn.com/2023/02/28/sport/los-a...</td>\n",
       "      <td>during the lakers' 27-point comeback victory o...</td>\n",
       "      <td>LeBron James' injury adds to the Los Angeles L...</td>\n",
       "    </tr>\n",
       "    <tr>\n",
       "      <th>1</th>\n",
       "      <td>https://edition.cnn.com/2023/02/16/sport/lesle...</td>\n",
       "      <td>it's while running in the moors and hills of h...</td>\n",
       "      <td>Triathlete and screenwriter Lesley Paterson's ...</td>\n",
       "    </tr>\n",
       "    <tr>\n",
       "      <th>2</th>\n",
       "      <td>https://edition.cnn.com/2023/02/27/sport/damia...</td>\n",
       "      <td>damian lillard set an nba record in his monste...</td>\n",
       "      <td>NaN</td>\n",
       "    </tr>\n",
       "    <tr>\n",
       "      <th>3</th>\n",
       "      <td>https://edition.cnn.com/2023/02/27/football/su...</td>\n",
       "      <td>betrayal has formed part of european politics ...</td>\n",
       "      <td>The European Super League (ESL) was a proposed...</td>\n",
       "    </tr>\n",
       "    <tr>\n",
       "      <th>4</th>\n",
       "      <td>https://edition.cnn.com/2023/02/22/football/pa...</td>\n",
       "      <td>\"nakba\" means catastrophe in arabic, evoking a...</td>\n",
       "      <td>The Israeli-Palestinian conflict has cast a sh...</td>\n",
       "    </tr>\n",
       "  </tbody>\n",
       "</table>\n",
       "</div>"
      ],
      "text/plain": [
       "                                                 url  \\\n",
       "0  https://edition.cnn.com/2023/02/28/sport/los-a...   \n",
       "1  https://edition.cnn.com/2023/02/16/sport/lesle...   \n",
       "2  https://edition.cnn.com/2023/02/27/sport/damia...   \n",
       "3  https://edition.cnn.com/2023/02/27/football/su...   \n",
       "4  https://edition.cnn.com/2023/02/22/football/pa...   \n",
       "\n",
       "                                     bert_extractive  \\\n",
       "0  during the lakers' 27-point comeback victory o...   \n",
       "1  it's while running in the moors and hills of h...   \n",
       "2  damian lillard set an nba record in his monste...   \n",
       "3  betrayal has formed part of european politics ...   \n",
       "4  \"nakba\" means catastrophe in arabic, evoking a...   \n",
       "\n",
       "                                          gold_truth  \n",
       "0  LeBron James' injury adds to the Los Angeles L...  \n",
       "1  Triathlete and screenwriter Lesley Paterson's ...  \n",
       "2                                                NaN  \n",
       "3  The European Super League (ESL) was a proposed...  \n",
       "4  The Israeli-Palestinian conflict has cast a sh...  "
      ]
     },
     "execution_count": 3,
     "metadata": {},
     "output_type": "execute_result"
    }
   ],
   "source": [
    "df.head()"
   ]
  },
  {
   "cell_type": "markdown",
   "id": "532c87ad",
   "metadata": {},
   "source": [
    "Since we only produced gold truth summaries for 99 articles (1 was violating chatgpt rules), our dataframe will have nulls. While we have 99 gold truth articles, BERT did not manage to provide extractive summaries for the dataset, which is why after dropping, there are only 92 rows."
   ]
  },
  {
   "cell_type": "code",
   "execution_count": 4,
   "id": "acf7b72a",
   "metadata": {},
   "outputs": [
    {
     "data": {
      "text/plain": [
       "(92, 3)"
      ]
     },
     "execution_count": 4,
     "metadata": {},
     "output_type": "execute_result"
    }
   ],
   "source": [
    "df.dropna(inplace=True)\n",
    "df.shape"
   ]
  },
  {
   "cell_type": "markdown",
   "id": "86481cde",
   "metadata": {},
   "source": [
    "## ROGUE evaluation"
   ]
  },
  {
   "cell_type": "code",
   "execution_count": 23,
   "id": "954c33a8",
   "metadata": {},
   "outputs": [],
   "source": [
    "rouge = PyRouge(rouge_n=(1, 2, 3, 4), rouge_l=True, rouge_w=True,\n",
    "                rouge_w_weight=1.2, rouge_s=True, rouge_su=True, skip_gap=4)\n",
    "scores = rouge.evaluate(df[\"bert_extractive\"], df[\"gold_truth\"])"
   ]
  },
  {
   "cell_type": "code",
   "execution_count": 24,
   "id": "f91f3b7c",
   "metadata": {},
   "outputs": [
    {
     "data": {
      "text/plain": [
       "{'rouge-1': {'r': 0.08947609327822567,\n",
       "  'p': 0.000871344480681971,\n",
       "  'f': 0.001725881817235716},\n",
       " 'rouge-2': {'r': 0.0, 'p': 0.0, 'f': 0.0},\n",
       " 'rouge-3': {'r': 0.0, 'p': 0.0, 'f': 0.0},\n",
       " 'rouge-4': {'r': 0.0, 'p': 0.0, 'f': 0.0},\n",
       " 'rouge-l': {'r': 0.08947609327822567,\n",
       "  'p': 0.000871344480681971,\n",
       "  'f': 0.001725881817235716},\n",
       " 'rouge-w-1.2': {'r': 0.13070249344486135,\n",
       "  'p': 0.00131211396307712,\n",
       "  'f': 0.0025981453117238248},\n",
       " 'rouge-s4': {'r': 0.0, 'p': 0.0, 'f': 0.0},\n",
       " 'rouge-su4': {'r': 0.0, 'p': 0.0, 'f': 0.0}}"
      ]
     },
     "execution_count": 24,
     "metadata": {},
     "output_type": "execute_result"
    }
   ],
   "source": [
    "scores"
   ]
  },
  {
   "cell_type": "markdown",
   "id": "be2f1b8e",
   "metadata": {},
   "source": [
    "## BERT score evaluation"
   ]
  },
  {
   "cell_type": "code",
   "execution_count": 8,
   "id": "ebce3c9e",
   "metadata": {},
   "outputs": [],
   "source": [
    "# !pip install evaluate"
   ]
  },
  {
   "cell_type": "code",
   "execution_count": 5,
   "id": "419416eb",
   "metadata": {},
   "outputs": [],
   "source": [
    "# https://huggingface.co/spaces/evaluate-metric/bertscore/blob/main/README.md\n",
    "\n",
    "from evaluate import load\n",
    "bertscore = load(\"bertscore\")\n",
    "results = bertscore.compute(predictions=df['gold_truth'], references=df['bert_extractive'], lang=\"en\")"
   ]
  },
  {
   "cell_type": "code",
   "execution_count": 12,
   "id": "e6316dac",
   "metadata": {},
   "outputs": [
    {
     "data": {
      "text/plain": [
       "{'precision': [0.8548375368118286,\n",
       "  0.8423986434936523,\n",
       "  0.842686653137207,\n",
       "  0.8637030124664307,\n",
       "  0.8535655736923218,\n",
       "  0.8320750594139099,\n",
       "  0.860188901424408,\n",
       "  0.8893088102340698,\n",
       "  0.8630494475364685,\n",
       "  0.8482155799865723,\n",
       "  0.8893137574195862,\n",
       "  0.8820285797119141,\n",
       "  0.8916323184967041,\n",
       "  0.8869955539703369,\n",
       "  0.8773421049118042,\n",
       "  0.8591261506080627,\n",
       "  0.8486756086349487,\n",
       "  0.8835134506225586,\n",
       "  0.888674795627594,\n",
       "  0.9014855623245239,\n",
       "  0.8856498003005981,\n",
       "  0.8705019950866699,\n",
       "  0.8862748742103577,\n",
       "  0.7850698232650757,\n",
       "  0.8167484402656555,\n",
       "  0.8623031377792358,\n",
       "  0.9159845113754272,\n",
       "  0.8731406927108765,\n",
       "  0.8102579116821289,\n",
       "  0.8244129419326782,\n",
       "  0.8759710788726807,\n",
       "  0.8868055939674377,\n",
       "  0.8700794577598572,\n",
       "  0.8321923613548279,\n",
       "  0.8916469216346741,\n",
       "  0.8761851191520691,\n",
       "  0.8672460913658142,\n",
       "  0.8945640921592712,\n",
       "  0.8566836714744568,\n",
       "  0.8437748551368713,\n",
       "  0.8431178331375122,\n",
       "  0.8398867845535278,\n",
       "  0.9025480151176453,\n",
       "  0.8543885946273804,\n",
       "  0.8268226385116577,\n",
       "  0.8017202019691467,\n",
       "  0.9058009386062622,\n",
       "  0.8566162586212158,\n",
       "  0.8911535143852234,\n",
       "  0.8618977665901184,\n",
       "  0.8618906736373901,\n",
       "  0.9111021161079407,\n",
       "  0.7921074032783508,\n",
       "  0.9026538133621216,\n",
       "  0.8387802243232727,\n",
       "  0.9026719927787781,\n",
       "  0.820732593536377,\n",
       "  0.893012285232544,\n",
       "  0.8677762150764465,\n",
       "  0.9049514532089233,\n",
       "  0.8129106163978577,\n",
       "  0.8371270895004272,\n",
       "  0.8884167075157166,\n",
       "  0.8560647964477539,\n",
       "  0.9035681486129761,\n",
       "  0.8886797428131104,\n",
       "  0.9012219309806824,\n",
       "  0.8927171230316162,\n",
       "  0.8777378797531128,\n",
       "  0.8845271468162537,\n",
       "  0.8698438405990601,\n",
       "  0.8883964419364929,\n",
       "  0.9282864332199097,\n",
       "  0.8107635974884033,\n",
       "  0.8280041217803955,\n",
       "  0.8746289014816284,\n",
       "  0.8846485614776611,\n",
       "  0.8618977665901184,\n",
       "  0.8799028992652893,\n",
       "  0.8815433382987976,\n",
       "  0.9111021161079407,\n",
       "  0.7921074032783508,\n",
       "  0.8917055130004883,\n",
       "  0.8854092955589294,\n",
       "  0.9097702503204346,\n",
       "  0.897261381149292,\n",
       "  0.9228453636169434,\n",
       "  0.9235990643501282,\n",
       "  0.9133679866790771,\n",
       "  0.9026719927787781,\n",
       "  0.820732593536377,\n",
       "  0.893012285232544],\n",
       " 'recall': [0.8358725905418396,\n",
       "  0.8142575025558472,\n",
       "  0.8111710548400879,\n",
       "  0.8008236289024353,\n",
       "  0.8910033106803894,\n",
       "  0.8076081275939941,\n",
       "  0.8274699449539185,\n",
       "  0.8787296414375305,\n",
       "  0.8517837524414062,\n",
       "  0.8022257089614868,\n",
       "  0.8485718965530396,\n",
       "  0.8549893498420715,\n",
       "  0.8551291823387146,\n",
       "  0.8484042882919312,\n",
       "  0.8612369894981384,\n",
       "  0.8669642806053162,\n",
       "  0.8500075340270996,\n",
       "  0.8590733408927917,\n",
       "  0.8592535257339478,\n",
       "  0.8816965818405151,\n",
       "  0.8664347529411316,\n",
       "  0.8458042740821838,\n",
       "  0.8638970255851746,\n",
       "  0.8208763599395752,\n",
       "  0.7983406186103821,\n",
       "  0.8663739562034607,\n",
       "  0.8787219524383545,\n",
       "  0.8297080993652344,\n",
       "  0.8518096208572388,\n",
       "  0.8316950798034668,\n",
       "  0.8674158453941345,\n",
       "  0.8732998371124268,\n",
       "  0.8784202337265015,\n",
       "  0.7914366722106934,\n",
       "  0.8892357349395752,\n",
       "  0.8517436981201172,\n",
       "  0.8564924597740173,\n",
       "  0.8781985640525818,\n",
       "  0.8141358494758606,\n",
       "  0.8527253866195679,\n",
       "  0.8358470797538757,\n",
       "  0.863163948059082,\n",
       "  0.8700644969940186,\n",
       "  0.8723675012588501,\n",
       "  0.8960344791412354,\n",
       "  0.8330357074737549,\n",
       "  0.8671560287475586,\n",
       "  0.834334671497345,\n",
       "  0.8608495593070984,\n",
       "  0.9392728805541992,\n",
       "  0.8556020259857178,\n",
       "  0.8804613351821899,\n",
       "  0.8146873712539673,\n",
       "  0.8831457495689392,\n",
       "  0.8594521284103394,\n",
       "  0.8689724802970886,\n",
       "  0.835548460483551,\n",
       "  0.8646638989448547,\n",
       "  0.8349707126617432,\n",
       "  0.9119800329208374,\n",
       "  0.833635151386261,\n",
       "  0.8212246894836426,\n",
       "  0.8801597952842712,\n",
       "  0.8410173654556274,\n",
       "  0.8868946433067322,\n",
       "  0.8581876754760742,\n",
       "  0.887722909450531,\n",
       "  0.8675034642219543,\n",
       "  0.8351025581359863,\n",
       "  0.8550485372543335,\n",
       "  0.8562201857566833,\n",
       "  0.863784909248352,\n",
       "  0.8851369023323059,\n",
       "  0.8337992429733276,\n",
       "  0.8515498638153076,\n",
       "  0.8510356545448303,\n",
       "  0.8393797874450684,\n",
       "  0.9392728805541992,\n",
       "  0.8416461944580078,\n",
       "  0.8584747910499573,\n",
       "  0.8804613351821899,\n",
       "  0.8146873712539673,\n",
       "  0.8522968292236328,\n",
       "  0.8889117240905762,\n",
       "  0.8790805339813232,\n",
       "  0.8756735920906067,\n",
       "  0.8688700199127197,\n",
       "  0.9179027080535889,\n",
       "  0.8641303181648254,\n",
       "  0.8689724802970886,\n",
       "  0.835548460483551,\n",
       "  0.8646638989448547],\n",
       " 'f1': [0.8452487587928772,\n",
       "  0.8280890583992004,\n",
       "  0.826628565788269,\n",
       "  0.8310756087303162,\n",
       "  0.8718827962875366,\n",
       "  0.8196589946746826,\n",
       "  0.8435122966766357,\n",
       "  0.883987545967102,\n",
       "  0.8573795557022095,\n",
       "  0.8245798945426941,\n",
       "  0.86846524477005,\n",
       "  0.8682985901832581,\n",
       "  0.8729993104934692,\n",
       "  0.867270827293396,\n",
       "  0.8692150115966797,\n",
       "  0.8630273938179016,\n",
       "  0.8493410348892212,\n",
       "  0.8711220026016235,\n",
       "  0.8737165331840515,\n",
       "  0.8914812803268433,\n",
       "  0.8759369254112244,\n",
       "  0.8579754829406738,\n",
       "  0.8749428987503052,\n",
       "  0.8025739192962646,\n",
       "  0.8074396252632141,\n",
       "  0.8643338084220886,\n",
       "  0.8969663977622986,\n",
       "  0.8508704900741577,\n",
       "  0.8305143713951111,\n",
       "  0.8280379772186279,\n",
       "  0.8716724514961243,\n",
       "  0.8800009489059448,\n",
       "  0.8742299675941467,\n",
       "  0.8113030195236206,\n",
       "  0.8904396891593933,\n",
       "  0.8637915253639221,\n",
       "  0.8618357181549072,\n",
       "  0.8863058090209961,\n",
       "  0.8348680138587952,\n",
       "  0.8482264876365662,\n",
       "  0.8394667506217957,\n",
       "  0.8513662815093994,\n",
       "  0.8860085606575012,\n",
       "  0.8632844090461731,\n",
       "  0.8600383400917053,\n",
       "  0.8170780539512634,\n",
       "  0.8860573172569275,\n",
       "  0.845328688621521,\n",
       "  0.8757394552230835,\n",
       "  0.898923397064209,\n",
       "  0.8587348461151123,\n",
       "  0.8955196738243103,\n",
       "  0.8032386898994446,\n",
       "  0.8927932381629944,\n",
       "  0.8489903807640076,\n",
       "  0.8855017423629761,\n",
       "  0.8280743360519409,\n",
       "  0.8786094784736633,\n",
       "  0.8510574698448181,\n",
       "  0.9084521532058716,\n",
       "  0.823142409324646,\n",
       "  0.8290996551513672,\n",
       "  0.8842689990997314,\n",
       "  0.8484743237495422,\n",
       "  0.8951537609100342,\n",
       "  0.8731675744056702,\n",
       "  0.8944215178489685,\n",
       "  0.879929780960083,\n",
       "  0.855889618396759,\n",
       "  0.8695380687713623,\n",
       "  0.8629782795906067,\n",
       "  0.8759178519248962,\n",
       "  0.906198263168335,\n",
       "  0.8221200704574585,\n",
       "  0.8396118879318237,\n",
       "  0.8626709580421448,\n",
       "  0.8614197969436646,\n",
       "  0.898923397064209,\n",
       "  0.8603494763374329,\n",
       "  0.8698561191558838,\n",
       "  0.8955196738243103,\n",
       "  0.8032386898994446,\n",
       "  0.8715559244155884,\n",
       "  0.8871570229530334,\n",
       "  0.894162118434906,\n",
       "  0.8863360285758972,\n",
       "  0.8950446844100952,\n",
       "  0.9207420945167542,\n",
       "  0.8880672454833984,\n",
       "  0.8855017423629761,\n",
       "  0.8280743360519409,\n",
       "  0.8786094784736633],\n",
       " 'hashcode': 'roberta-large_L17_no-idf_version=0.3.12(hug_trans=4.24.0)'}"
      ]
     },
     "execution_count": 12,
     "metadata": {},
     "output_type": "execute_result"
    }
   ],
   "source": [
    "results"
   ]
  },
  {
   "cell_type": "markdown",
   "id": "5f9de026",
   "metadata": {},
   "source": [
    "Calculating average precision"
   ]
  },
  {
   "cell_type": "code",
   "execution_count": 9,
   "id": "b77ab663",
   "metadata": {},
   "outputs": [
    {
     "name": "stdout",
     "output_type": "stream",
     "text": [
      "0.869330588242282\n"
     ]
    }
   ],
   "source": [
    "total = sum(results[\"precision\"])\n",
    "length = len(results[\"precision\"])\n",
    "print(total/length)"
   ]
  },
  {
   "cell_type": "markdown",
   "id": "094525f7",
   "metadata": {},
   "source": [
    "Calculating average recall"
   ]
  },
  {
   "cell_type": "code",
   "execution_count": 13,
   "id": "09fb1b03",
   "metadata": {
    "scrolled": true
   },
   "outputs": [
    {
     "name": "stdout",
     "output_type": "stream",
     "text": [
      "0.8564417964738348\n"
     ]
    }
   ],
   "source": [
    "total = sum(results[\"recall\"])\n",
    "length = len(results[\"recall\"])\n",
    "print(total/length)"
   ]
  },
  {
   "cell_type": "markdown",
   "id": "883cb11c",
   "metadata": {},
   "source": [
    "Calculating average f1"
   ]
  },
  {
   "cell_type": "code",
   "execution_count": 14,
   "id": "579806e4",
   "metadata": {},
   "outputs": [
    {
     "name": "stdout",
     "output_type": "stream",
     "text": [
      "0.8626157602538234\n"
     ]
    }
   ],
   "source": [
    "total = sum(results[\"f1\"])\n",
    "length = len(results[\"f1\"])\n",
    "print(total/length)"
   ]
  }
 ],
 "metadata": {
  "kernelspec": {
   "display_name": "Python 3 (ipykernel)",
   "language": "python",
   "name": "python3"
  },
  "language_info": {
   "codemirror_mode": {
    "name": "ipython",
    "version": 3
   },
   "file_extension": ".py",
   "mimetype": "text/x-python",
   "name": "python",
   "nbconvert_exporter": "python",
   "pygments_lexer": "ipython3",
   "version": "3.10.9"
  }
 },
 "nbformat": 4,
 "nbformat_minor": 5
}
