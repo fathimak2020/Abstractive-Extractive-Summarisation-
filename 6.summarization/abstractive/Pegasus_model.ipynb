{
 "cells": [
  {
   "cell_type": "markdown",
   "metadata": {},
   "source": [
    "# Install Modules"
   ]
  },
  {
   "cell_type": "code",
   "execution_count": 10,
   "metadata": {},
   "outputs": [
    {
     "name": "stdout",
     "output_type": "stream",
     "text": [
      "Collecting bert_score\n",
      "  Downloading bert_score-0.3.13-py3-none-any.whl (61 kB)\n",
      "     ---------------------------------------- 61.1/61.1 kB ? eta 0:00:00\n",
      "Requirement already satisfied: tqdm>=4.31.1 in c:\\users\\syafi\\appdata\\local\\programs\\python\\python39\\lib\\site-packages (from bert_score) (4.64.1)\n",
      "Requirement already satisfied: requests in c:\\users\\syafi\\appdata\\local\\programs\\python\\python39\\lib\\site-packages (from bert_score) (2.28.1)\n",
      "Requirement already satisfied: torch>=1.0.0 in c:\\users\\syafi\\appdata\\local\\programs\\python\\python39\\lib\\site-packages (from bert_score) (2.0.0)\n",
      "Requirement already satisfied: packaging>=20.9 in c:\\users\\syafi\\appdata\\local\\programs\\python\\python39\\lib\\site-packages (from bert_score) (21.3)\n",
      "Requirement already satisfied: pandas>=1.0.1 in c:\\users\\syafi\\appdata\\local\\programs\\python\\python39\\lib\\site-packages (from bert_score) (1.4.4)\n",
      "Requirement already satisfied: numpy in c:\\users\\syafi\\appdata\\local\\programs\\python\\python39\\lib\\site-packages (from bert_score) (1.23.3)\n",
      "Requirement already satisfied: transformers>=3.0.0 in c:\\users\\syafi\\appdata\\local\\programs\\python\\python39\\lib\\site-packages (from bert_score) (4.27.4)\n"
     ]
    },
    {
     "name": "stderr",
     "output_type": "stream",
     "text": [
      "\n",
      "[notice] A new release of pip available: 22.2.2 -> 23.0.1\n",
      "[notice] To update, run: python.exe -m pip install --upgrade pip\n"
     ]
    },
    {
     "name": "stdout",
     "output_type": "stream",
     "text": [
      "Requirement already satisfied: matplotlib in c:\\users\\syafi\\appdata\\local\\programs\\python\\python39\\lib\\site-packages (from bert_score) (3.5.3)\n",
      "Requirement already satisfied: pyparsing!=3.0.5,>=2.0.2 in c:\\users\\syafi\\appdata\\local\\programs\\python\\python39\\lib\\site-packages (from packaging>=20.9->bert_score) (3.0.9)\n",
      "Requirement already satisfied: pytz>=2020.1 in c:\\users\\syafi\\appdata\\local\\programs\\python\\python39\\lib\\site-packages (from pandas>=1.0.1->bert_score) (2022.2.1)\n",
      "Requirement already satisfied: python-dateutil>=2.8.1 in c:\\users\\syafi\\appdata\\roaming\\python\\python39\\site-packages (from pandas>=1.0.1->bert_score) (2.8.1)\n",
      "Requirement already satisfied: networkx in c:\\users\\syafi\\appdata\\local\\programs\\python\\python39\\lib\\site-packages (from torch>=1.0.0->bert_score) (2.8.6)\n",
      "Requirement already satisfied: typing-extensions in c:\\users\\syafi\\appdata\\local\\programs\\python\\python39\\lib\\site-packages (from torch>=1.0.0->bert_score) (4.3.0)\n",
      "Requirement already satisfied: jinja2 in c:\\users\\syafi\\appdata\\local\\programs\\python\\python39\\lib\\site-packages (from torch>=1.0.0->bert_score) (3.1.2)\n",
      "Requirement already satisfied: filelock in c:\\users\\syafi\\appdata\\local\\programs\\python\\python39\\lib\\site-packages (from torch>=1.0.0->bert_score) (3.9.0)\n",
      "Requirement already satisfied: sympy in c:\\users\\syafi\\appdata\\local\\programs\\python\\python39\\lib\\site-packages (from torch>=1.0.0->bert_score) (1.11.1)\n",
      "Requirement already satisfied: colorama in c:\\users\\syafi\\appdata\\local\\programs\\python\\python39\\lib\\site-packages (from tqdm>=4.31.1->bert_score) (0.4.6)\n",
      "Requirement already satisfied: huggingface-hub<1.0,>=0.11.0 in c:\\users\\syafi\\appdata\\local\\programs\\python\\python39\\lib\\site-packages (from transformers>=3.0.0->bert_score) (0.13.3)\n",
      "Requirement already satisfied: tokenizers!=0.11.3,<0.14,>=0.11.1 in c:\\users\\syafi\\appdata\\local\\programs\\python\\python39\\lib\\site-packages (from transformers>=3.0.0->bert_score) (0.12.1)\n",
      "Requirement already satisfied: pyyaml>=5.1 in c:\\users\\syafi\\appdata\\local\\programs\\python\\python39\\lib\\site-packages (from transformers>=3.0.0->bert_score) (6.0)\n",
      "Requirement already satisfied: regex!=2019.12.17 in c:\\users\\syafi\\appdata\\local\\programs\\python\\python39\\lib\\site-packages (from transformers>=3.0.0->bert_score) (2022.9.13)\n",
      "Requirement already satisfied: cycler>=0.10 in c:\\users\\syafi\\appdata\\local\\programs\\python\\python39\\lib\\site-packages (from matplotlib->bert_score) (0.11.0)\n",
      "Requirement already satisfied: kiwisolver>=1.0.1 in c:\\users\\syafi\\appdata\\local\\programs\\python\\python39\\lib\\site-packages (from matplotlib->bert_score) (1.4.4)\n",
      "Requirement already satisfied: fonttools>=4.22.0 in c:\\users\\syafi\\appdata\\local\\programs\\python\\python39\\lib\\site-packages (from matplotlib->bert_score) (4.37.1)\n",
      "Requirement already satisfied: pillow>=6.2.0 in c:\\users\\syafi\\appdata\\local\\programs\\python\\python39\\lib\\site-packages (from matplotlib->bert_score) (9.2.0)\n",
      "Requirement already satisfied: urllib3<1.27,>=1.21.1 in c:\\users\\syafi\\appdata\\local\\programs\\python\\python39\\lib\\site-packages (from requests->bert_score) (1.26.15)\n",
      "Requirement already satisfied: certifi>=2017.4.17 in c:\\users\\syafi\\appdata\\local\\programs\\python\\python39\\lib\\site-packages (from requests->bert_score) (2020.12.5)\n",
      "Requirement already satisfied: idna<4,>=2.5 in c:\\users\\syafi\\appdata\\local\\programs\\python\\python39\\lib\\site-packages (from requests->bert_score) (2.7)\n",
      "Requirement already satisfied: charset-normalizer<3,>=2 in c:\\users\\syafi\\appdata\\local\\programs\\python\\python39\\lib\\site-packages (from requests->bert_score) (2.1.1)\n",
      "Requirement already satisfied: six>=1.5 in c:\\users\\syafi\\appdata\\roaming\\python\\python39\\site-packages (from python-dateutil>=2.8.1->pandas>=1.0.1->bert_score) (1.15.0)\n",
      "Requirement already satisfied: MarkupSafe>=2.0 in c:\\users\\syafi\\appdata\\local\\programs\\python\\python39\\lib\\site-packages (from jinja2->torch>=1.0.0->bert_score) (2.1.2)\n",
      "Requirement already satisfied: mpmath>=0.19 in c:\\users\\syafi\\appdata\\local\\programs\\python\\python39\\lib\\site-packages (from sympy->torch>=1.0.0->bert_score) (1.3.0)\n",
      "Installing collected packages: bert_score\n",
      "Successfully installed bert_score-0.3.13\n"
     ]
    }
   ],
   "source": [
    "# !pip3 install torch torchvision torchaudio\n",
    "# !pip install transformers -U\n",
    "# !pip install sentencepiece\n",
    "# !pip install py-rouge\n",
    "# !pip install rouge-metric\n",
    "# !pip install evaluate\n",
    "# !pip install bert_score\n"
   ]
  },
  {
   "cell_type": "markdown",
   "metadata": {},
   "source": [
    "# Import Modules"
   ]
  },
  {
   "cell_type": "code",
   "execution_count": 1,
   "metadata": {},
   "outputs": [
    {
     "name": "stderr",
     "output_type": "stream",
     "text": [
      "c:\\Users\\syafi\\AppData\\Local\\Programs\\Python\\Python39\\lib\\site-packages\\tqdm\\auto.py:22: TqdmWarning: IProgress not found. Please update jupyter and ipywidgets. See https://ipywidgets.readthedocs.io/en/stable/user_install.html\n",
      "  from .autonotebook import tqdm as notebook_tqdm\n"
     ]
    }
   ],
   "source": [
    "import numpy as np\n",
    "import pandas as pd\n",
    "\n",
    "from transformers import AutoTokenizer, AutoModelForSeq2SeqLM\n",
    "\n",
    "from rouge_metric import PyRouge\n",
    "\n",
    "from evaluate import load"
   ]
  },
  {
   "attachments": {},
   "cell_type": "markdown",
   "metadata": {},
   "source": [
    "# Import Data"
   ]
  },
  {
   "attachments": {},
   "cell_type": "markdown",
   "metadata": {},
   "source": [
    "#### Import Data and Create new Dataframe"
   ]
  },
  {
   "cell_type": "code",
   "execution_count": 2,
   "metadata": {},
   "outputs": [
    {
     "data": {
      "text/html": [
       "<div>\n",
       "<style scoped>\n",
       "    .dataframe tbody tr th:only-of-type {\n",
       "        vertical-align: middle;\n",
       "    }\n",
       "\n",
       "    .dataframe tbody tr th {\n",
       "        vertical-align: top;\n",
       "    }\n",
       "\n",
       "    .dataframe thead th {\n",
       "        text-align: right;\n",
       "    }\n",
       "</style>\n",
       "<table border=\"1\" class=\"dataframe\">\n",
       "  <thead>\n",
       "    <tr style=\"text-align: right;\">\n",
       "      <th></th>\n",
       "      <th>url</th>\n",
       "      <th>clean_text</th>\n",
       "    </tr>\n",
       "  </thead>\n",
       "  <tbody>\n",
       "    <tr>\n",
       "      <th>0</th>\n",
       "      <td>https://edition.cnn.com/2023/02/28/sport/los-a...</td>\n",
       "      <td>during the lakers' 27-point comeback victory o...</td>\n",
       "    </tr>\n",
       "    <tr>\n",
       "      <th>1</th>\n",
       "      <td>https://edition.cnn.com/2023/02/16/sport/lesle...</td>\n",
       "      <td>it's while running in the moors and hills of h...</td>\n",
       "    </tr>\n",
       "    <tr>\n",
       "      <th>2</th>\n",
       "      <td>https://edition.cnn.com/2023/02/27/sport/damia...</td>\n",
       "      <td>damian lillard set an nba record in his monste...</td>\n",
       "    </tr>\n",
       "    <tr>\n",
       "      <th>3</th>\n",
       "      <td>https://edition.cnn.com/2023/02/27/football/su...</td>\n",
       "      <td>betrayal has formed part of european politics ...</td>\n",
       "    </tr>\n",
       "    <tr>\n",
       "      <th>4</th>\n",
       "      <td>https://edition.cnn.com/2023/02/22/football/pa...</td>\n",
       "      <td>the palestinian team has never taken part in a...</td>\n",
       "    </tr>\n",
       "    <tr>\n",
       "      <th>...</th>\n",
       "      <td>...</td>\n",
       "      <td>...</td>\n",
       "    </tr>\n",
       "    <tr>\n",
       "      <th>216</th>\n",
       "      <td>https://www.channelnewsasia.com/sport/fa-cup-q...</td>\n",
       "      <td>london : fa cup quarter-final draw made on wed...</td>\n",
       "    </tr>\n",
       "    <tr>\n",
       "      <th>217</th>\n",
       "      <td>https://www.channelnewsasia.com/sport/man-unit...</td>\n",
       "      <td>manchester, england :manchester united fought ...</td>\n",
       "    </tr>\n",
       "    <tr>\n",
       "      <th>218</th>\n",
       "      <td>https://www.channelnewsasia.com/sport/formula-...</td>\n",
       "      <td>statistics for sunday's season-opening bahrain...</td>\n",
       "    </tr>\n",
       "    <tr>\n",
       "      <th>219</th>\n",
       "      <td>https://www.channelnewsasia.com/sport/prop-hao...</td>\n",
       "      <td>prop mohamed haouas will miss france's remaini...</td>\n",
       "    </tr>\n",
       "    <tr>\n",
       "      <th>220</th>\n",
       "      <td>https://www.channelnewsasia.com/sport/police-c...</td>\n",
       "      <td>on the cusp of the biggest moment of his life,...</td>\n",
       "    </tr>\n",
       "  </tbody>\n",
       "</table>\n",
       "<p>221 rows × 2 columns</p>\n",
       "</div>"
      ],
      "text/plain": [
       "                                                   url  \\\n",
       "0    https://edition.cnn.com/2023/02/28/sport/los-a...   \n",
       "1    https://edition.cnn.com/2023/02/16/sport/lesle...   \n",
       "2    https://edition.cnn.com/2023/02/27/sport/damia...   \n",
       "3    https://edition.cnn.com/2023/02/27/football/su...   \n",
       "4    https://edition.cnn.com/2023/02/22/football/pa...   \n",
       "..                                                 ...   \n",
       "216  https://www.channelnewsasia.com/sport/fa-cup-q...   \n",
       "217  https://www.channelnewsasia.com/sport/man-unit...   \n",
       "218  https://www.channelnewsasia.com/sport/formula-...   \n",
       "219  https://www.channelnewsasia.com/sport/prop-hao...   \n",
       "220  https://www.channelnewsasia.com/sport/police-c...   \n",
       "\n",
       "                                            clean_text  \n",
       "0    during the lakers' 27-point comeback victory o...  \n",
       "1    it's while running in the moors and hills of h...  \n",
       "2    damian lillard set an nba record in his monste...  \n",
       "3    betrayal has formed part of european politics ...  \n",
       "4    the palestinian team has never taken part in a...  \n",
       "..                                                 ...  \n",
       "216  london : fa cup quarter-final draw made on wed...  \n",
       "217  manchester, england :manchester united fought ...  \n",
       "218  statistics for sunday's season-opening bahrain...  \n",
       "219  prop mohamed haouas will miss france's remaini...  \n",
       "220  on the cusp of the biggest moment of his life,...  \n",
       "\n",
       "[221 rows x 2 columns]"
      ]
     },
     "execution_count": 2,
     "metadata": {},
     "output_type": "execute_result"
    }
   ],
   "source": [
    "data=pd.read_csv('/latest_news_scraper/2.text_preprocessing/combined/combined_file.csv')\n",
    "\n",
    "new_df = data[['url','clean_text']]\n",
    "new_df"
   ]
  },
  {
   "attachments": {},
   "cell_type": "markdown",
   "metadata": {},
   "source": [
    "# Abstractive Summarization - Pegasus Model"
   ]
  },
  {
   "attachments": {},
   "cell_type": "markdown",
   "metadata": {},
   "source": [
    "#### Import Pegasus Model using XSum dataset"
   ]
  },
  {
   "cell_type": "code",
   "execution_count": 59,
   "metadata": {},
   "outputs": [],
   "source": [
    "model = AutoModelForSeq2SeqLM.from_pretrained('google/pegasus-xsum')\n",
    "tokenizer = AutoTokenizer.from_pretrained('google/pegasus-xsum')"
   ]
  },
  {
   "attachments": {},
   "cell_type": "markdown",
   "metadata": {},
   "source": [
    "#### Testing out on One Article"
   ]
  },
  {
   "cell_type": "code",
   "execution_count": 64,
   "metadata": {},
   "outputs": [
    {
     "data": {
      "text/plain": [
       "'novak djokovic is ranked no 1 in the world for the record 378th time.the 22-time grand slam champion broke the mark set by steffi graf.djokovic, 35, has 6,980 points in the latest atp rankings, 200 more than no 2 carlos alcaraz of spain.\"it\\'s surreal to be that many weeks no 1, to match graf - one of the all-time greats,\" djokovic said. \"just being amongst these legendary names is flattering. i\\'m proud of it.\"djokovic first rose to no 1 at the age of 24 on jul 4, 2011. he spent a personal-best 122 consecutive weeks at the top from 2014-16.djokovic won his men\\'s record-tying 22nd major title last month at the australian open. the serbian star returns to action tuesday at the dubai duty free tennis championships.graf, also a 22-time grand slam winner, was no 1 in the women\\'s rankings for 377 weeks before retiring in 1999.martina navratilova ranks third on the all-time list with 332 weeks at no 1, with serena williams (319) and roger federer (310) rounding out the top five.'"
      ]
     },
     "execution_count": 64,
     "metadata": {},
     "output_type": "execute_result"
    }
   ],
   "source": [
    "new_df['clean_text'][164]"
   ]
  },
  {
   "cell_type": "code",
   "execution_count": 67,
   "metadata": {},
   "outputs": [
    {
     "name": "stdout",
     "output_type": "stream",
     "text": [
      "Serbia's Novak djokovic has broken the all-time record for the most weeks at the top of the men's world rankings, breaking the mark set by one of the sport's all-time greats, steffi graf.\n"
     ]
    }
   ],
   "source": [
    "text=\"novak djokovic is ranked no 1 in the world for the record 378th time.the 22-time grand slam champion broke the mark set by steffi graf.djokovic, 35, has 6,980 points in the latest atp rankings, 200 more than no 2 carlos alcaraz of spain.'it\\'s surreal to be that many weeks no 1, to match graf - one of the all-time greats,' djokovic said. 'just being amongst these legendary names is flattering. i\\'m proud of it.'djokovic first rose to no 1 at the age of 24 on jul 4, 2011. he spent a personal-best 122 consecutive weeks at the top from 2014-16.djokovic won his men\\'s record-tying 22nd major title last month at the australian open. the serbian star returns to action tuesday at the dubai duty free tennis championships.graf, also a 22-time grand slam winner, was no 1 in the women\\'s rankings for 377 weeks before retiring in 1999.martina navratilova ranks third on the all-time list with 332 weeks at no 1, with serena williams (319) and roger federer (310) rounding out the top five.\"\n",
    "\n",
    "tokens_input = tokenizer.encode(\"summarize: \"+ text, return_tensors='pt', truncation=True)\n",
    "ids = model.generate(tokens_input, min_length=50, max_length=200)\n",
    "summary = tokenizer.decode(ids[0], skip_special_tokens=True)\n",
    "\n",
    "print(summary)"
   ]
  },
  {
   "attachments": {},
   "cell_type": "markdown",
   "metadata": {},
   "source": [
    "#### Create Function for Summarization with Pegasus model"
   ]
  },
  {
   "cell_type": "code",
   "execution_count": 118,
   "metadata": {},
   "outputs": [
    {
     "data": {
      "text/plain": [
       "[\"One of the NBA's all-time greats has been ruled out for the rest of the season after suffering a foot injury in the Los Angeles lakers' win over the Memphis Grizzlies at the Staples Center in Los Angeles, on Sunday.\",\n",
       " 'As the world marks the 100th anniversary of the end of World War One, the writer and director of one of this year\\'s Palme d\\'Or contenders talks about the inspiration behind the film\\'s opening scene, which she describes as \"one of those moments where you know it\\'s good and you think: \\'oh my god, the uniform\\'s more important than the man.\\'\"',\n",
       " \"It's not every day you see a player score more than 70 points in a game, but that's exactly what happened in the NBA's all-time classic between the Los Angeles Lakers and Portland Trail blazers at the Staples Center.\",\n",
       " 'The friendship between aleksander eferin and andrea agnelli, then juusvent europe president and club association chairman, was like a \"betrayal\" between friends, according to the director of a new television documentary.',\n",
       " \"palestinians are celebrating after their team qualified for the semi-finals of the football World Cup for the first time in the territory's history, which is claimed by the state of israel as part of the Middle East peace process.\",\n",
       " \"The world's number one tennis player, novak djokovic, has broken the record for the most weeks as the world's top-ranked player, breaking the mark set by tennis legend, steffi graf, last week.\",\n",
       " \"As the world's top boxers prepare to compete at the world championships in Doha, it's a good time to take a look back at some of the sport's recent ups and downs and what's next for boxing?\",\n",
       " 'For more than a decade, rugby player campbell johnstone kept his sexuality a secret from his team-mates, his coaches and his own family, but he finally decided to come out last month after an \"overwhelming\" response to his announcement.',\n",
       " 'The world number one novak djokovic is hopeful for \"a positive result\" on us tennis tournament participation ahead of next month\\'s indian wells and open tournaments, after applying for special permission to play there, after applying for a vaccination against covid-19.',\n",
       " \"When the National Women's Soccer League (nwsl) announces its no. 1 draft pick every year, it's easy to get caught up in the moment and forget about the next day's classes, let alone the rest of your life.\",\n",
       " \"Some of the world's most extreme golf courses have been captured on camera over the years, from the world's most dangerous golf course to the world's most extreme golf course in uummannaq, greenland, to the world's most extreme golf course in camp bonifas, demilitarized zone, to the world's most extreme golf course in bangkok, to the world's most extreme golf course in camp bonifas, to the world's most extreme golf course in uummannaq, greenland, to the world's most\",\n",
       " 'He may only be 23 years old, but armand duplantis is already a great sporting athlete, breaking world records at the all star perche 2023 event in clermont-ferrand, but he did so again on breaking the pole vault word record.',\n",
       " 'Tennis player Jessica pegula has revealed the \"unglamorous\" side of the sport in a funny tweet after losing 6-1 5-7 6-0 to barborajkov in the women\\'s singles semi-finals at the Australian Open - by eating crisps.',\n",
       " \"A member of Morocco's national football team is being investigated for rape, according to a source close to the investigation, who asked not to be named due to the sensitivity of the case, as well as the ongoing nature of the probe.\",\n",
       " \"It had been a long time since the world's best golfers were competing at the same time, and it had been a long time since one of them had won on the PGA Tour, but that was not the only thing that mattered to Jamie kirk at the arnold palmer invitational.\",\n",
       " \"Poland's world number one iga witek was beaten in the final of the Abierto Mexicano Telcel in Acapulco on Sunday, ending a record-breaking run of 22 straight wins and a run of 19 straight wins in all competitions.\",\n",
       " \"The president of the French Football Federation (fff), nol le grat, has resigned, the fff has announced in a statement on its website (www.fff.fr) - the first such announcement in the country's history.\",\n",
       " 'Formula 1\\'s governing body has been urged not to \"sport the blood-soaked images\" of Saudi Arabia and Bahrain in the run-up to this year\\'s season-opening grand prix in bahrain, which takes place on 5 March.',\n",
       " 'An American football player who collapsed on the field during a game is \"doing great\" but needs full medical clearance if he wants to play again, according to his boss, who says he \"would love to give the storybook ending\" to his recovery.',\n",
       " \"Hundreds of thousands of Kansas City Chiefs fans lined the streets of the city to celebrate the team's win in the NFL's Super Bowl on Sunday, with some saying it was the biggest day in the history of the city's football team.\",\n",
       " \"Tommy fury beat youtuber jakebrotherpaul in a controversial super-bantamweight world title bout in Riyadh, Saudi Arabia, to claim the Arab world's first super-bantamweight world title in his first title fight.\",\n",
       " \"Major League Baseball's new pitch clock rules have been met with a mix-up in a spring training game between the braves and the red sox, with one player being given a time violation for taking too long to pitch his delivery.\",\n",
       " 'A member of the Dallas Cowboys has warned his fellow players not to take performance-enhancing drugs, saying he has been unable to run or jump for the past eight years because of injuries sustained playing the game, according to a report by cnn.',\n",
       " 'Supporters of a Turkish football team have been banned from attending a match in the south-eastern province of Diyarbakir due to \"security reasons\", the team and state media said on Friday, calling the decision a \"strange one that has nothing to do with sportive criteria.\"',\n",
       " \"A minor league baseball player has come out as gay, in a social media post that has been met with an outpouring of support from fellow players and fans, as well as criticism from those who say gay people can't be people in this life.\",\n",
       " \"If you were watching the final round of the PGA Tour's OHL Classic in Mayakoba, Mexico, you'd have been forgiven for thinking you'd seen the final round of the US Open, rather than the final round of the PGA Tour's OHL Classic in Mayakoba, Mexico.\",\n",
       " \"Argentina's Lionel messi and alexia putellas were named as the best players in men's and women's football at Fifa's annual awards ceremony in Paris, France, on Sunday, 28 December.., read more\",\n",
       " \"From hot dogs to gatorade, here's a look at some of the food and drinks forever tied to some of the world's most famous sporting events, from the Masters in Augusta, Georgia, to the US Open in New York.\",\n",
       " \"Canada's men's and women's national teams are seeking equal pay relative to men's team, but the head of the country's governing body has resigned in the wake of a pay dispute with its provincial and territorial associations.\",\n",
       " \"British teenagermia brookes has become the youngest ever snowboarder to win a gold medal at the Winter Olympics in Pyeongchang, South Korea, with victory in the women's snowboard slopestyle event at the Winter Games on Saturday night, reports BBC Sport.\",\n",
       " \"If you've ever wondered what it's like to spend a week in the dark, here's your answer: it's a new-age therapy designed to help you find peace in the midst of a hectic, stressful life.\",\n",
       " 'Paris Saint-Germain head coach Carlo Ancelotti says his side is \"the best in the world\" after it extended its lead at the top of Ligue 1 to eight points with a comfortable win away at bitter rival marseille, reports Xinhua.',\n",
       " \"manchester united won its first trophy since 2017 with a 2-0 victory over newcastle united to win the carabao cup stadium wembley in the north-east of England on Sunday, 29 May..... and it was a trophy they didn't need.\",\n",
       " \"It was another triumph for Australia's women in the shortest format of the game, as they successfully defended the title they won last year with a five-wicket victory over New Zealand in the final at the Ageas Bowl in Melbourne on Sunday.\",\n",
       " 'In a show of support for children impacted by the earthquake in turkey, soccer fans threw stuffed animals onto the pitch during a match between beikta and antalyaspor during a match between beikta and antalyaspor on Sunday.',\n",
       " \"Philadelphia's cardinals have found their new head coach just two days after their loss to the New England Patriots in the NFL's Super Bowl in New Orleans, reports the Philadelphia Inquirer's Manisha Rao, who first reported the news.\",\n",
       " \"England's Danny Willett won the Genesis Open for the second time in three years, closing with a six-under-par 66 to finish at 19-under-par 269 and beat American Matt Kuchar by one shot at Riviera Country Club.\",\n",
       " \"It's that time of year again when football fans across the United States are gearing up for the start of the college football season and the start of the NFL's pre-draft process, which this year takes place from 2 to 5 March.\",\n",
       " \"A federal judge has ruled that a former head coach of the dolphins can pursue a racial discrimination lawsuit against the team and three other NFL teams, but the case won't go to arbitration, as had been planned by the teams., cnn\",\n",
       " 'Fifa\\'s decision to appoint supermodel adriana lima as its global fan ambassador ahead of the world cup has been derided as \"an odd fit for an organisation that says it wants to empower girls and women\" by a former women\\'s football team captain.',\n",
       " \"The professional golf tour in the United States has announced a major overhaul of its schedule, which will see some of the sport's top players pitted against each other more frequently..... and it's not just Tiger Woods and Phil Mickelson.\",\n",
       " \"As the world's best golfers prepare for this week's Open Championship at Royal Birkdale, one man has been reflecting on one of the most memorable weeks of his golfing career - and how he celebrated it with a cherry cake and a cup of joe.\",\n",
       " 'A girls high school basketball team forfeited an out of state tournament after refusing to play against a team that had a transgender player, according to the head of school at mvcs, vicky fogg, who said playing against an opponent with a biological male \" jeopardizes the fairness of the game and the safety of our players.\"',\n",
       " \"Turkey's national sports broadcasters have raised more than $850 million for the victims of last month's devastating earthquake that hit 12 provinces and killed more than 44,000 people in turkey, local media reports said on Sunday, quoting government officials and officials from the country's football federation.\",\n",
       " 'Umpires in baltimore and pittsburgh were given extra responsibility for the rest of a Grapefruit League game after the umpires walked off the field without calling a ball or strike for the final three outs of the ninth.',\n",
       " \"The English Premier League is considering whether to take further action over the takeover of newcastle united by the kingdom of saudi, reports the BBC's JamesPearce on BBC Radio 5 live and BBC Radio 5 live sports extra, as well as the BBC Sport website.\",\n",
       " 'Aaron Rodgers says it\\'s \"best for everybody involved\", directly and indirectly, to make a decision sooner than later on whether or not he\\'s going to return to the Green Bay Packers for a 13th season in the National Football League.',\n",
       " 'Just fontaine, who still holds the record for most goals scored by a player at a single world cup, has died aged 89, the french football federation (fff) announced, describing him as \"one of the most beautiful pages of the history of the french national team\".',\n",
       " 'Aston martin\\'s new driver fernando alonso says he has joined the team to \"win\" and \"do everything possible\" to do so, as the new Formula 1 season gets under way at the bahrain grand prix.',\n",
       " \"The Florida panthers, one of the NFL's most successful franchises, have lost one of its most influential and longest-serving owners, jerry richardson, who died on Monday night at his home in spartanburg, South Carolina.\",\n",
       " \"An Italian cyclist has been found guilty of killing a cat with an air rifle after he accidentally shot it in the head while testing out the weapon at his home in the republic of san marino, reports the BBC's Italian news agency ANSA.\",\n",
       " \"The president of qatar has been placed under formal investigation in France over allegations of kidnapping and torture, according to the prosecutor's office in the capital, Paris, which has confirmed to cnn that three judges have been assigned to the case.\",\n",
       " \"The family of a Pakistani woman who died in a migrant boat accident off the coast of calabria has appealed for her body to be returned to her home city of Karachi, where she played a key role in the national team's success.\",\n",
       " \"penalty shootouts are more important than ever, and so it's in shootouts, where the margins are even tighter, that soccer's biggest drama is played out, writes cnn sport's Tomi Lahren, from Norway.\",\n",
       " 'The son of two-time world heavyweight champion eubank benn has spoken out for the first time since being declared \"innocent of being a drugs cheat\" by the sport\\'s world governing body and cleared to return to the ring.',\n",
       " \"The NFL has reinstated calvin ridley, who was suspended for gambling on games during the 2021 season as a member of the jaguars, the league said in a news release on Tuesday, reports BBC Sport's Tom Pelissero.\",\n",
       " \"Cuba's first all-female boxing team took to the ring last month in the capital, Havana, in what sports officials say is a significant step forward for women's boxing in the communist-run island., as cnn's Yoani Sanchez reports.\",\n",
       " \"Brooks koepka's childhood home in tampa, tampa, is the kind of place where you'd be hard pressed to find a child under the age of 10 who wouldn't be touched by the sight of a major trophy.\",\n",
       " \"The National Football League's players' association has released results of a survey on the state of the league's facilities, with the vikings rated as the best overall while the las raiders, chargers and commanders finished bottom of the scale.\",\n",
       " \"Paris St-Germain's Brazilian forward Neymar will miss the rest of the season after suffering an ankle injury in last week's Champions League win over Lille., according to the French Ligue 1 club's medical staff, and will be out for up to four months.\",\n",
       " \"Serbia's Novak djokovic has applied for special permission to enter the country ahead of both the ATP World Tour Finals in London and the Indian Wells Open, the country's sports minister has confirmed to the BBC's Newsnight programme.\",\n",
       " \"The Memphis Grizzlies lost their second straight game without star guard ja morant, who had been under investigation by police after the 23-year-old posted an instagram live video of himself appearing to hold a gun at a nightclub outside of the team's facility.\",\n",
       " \"Uefa plans to refund all liverpool supporters who had tickets for the 2022 champions league final in Paris, the governing body of europe's football has announced - but only if they had tickets for the stadium where the game was being played at the time.\",\n",
       " \"vikings' star kj osborn says he and three other people helped save a man who was trapped inside a burning car in austin, Texas, on Sunday night - and he's sharing the story with you on social media.\",\n",
       " \"As the US women's national team prepares to defend their world cup title in Canada this summer, one of the team's biggest stars is reflecting on what it's been like to fight for equality on and off the field, both on and off the field.\",\n",
       " \"chelsea's owners, the boehly family, held a brief meeting at the club's training ground after their side beat Borussia Dortmund to reach the last 16 of the Europa League on Thursday, but there was no sign of manager Robbie potter.\",\n",
       " \"Novak djokovic's hopes of playing at this year's us open have been dealt a blow after he failed in his bid to be granted a visa to play in the country, reports the BBC's sports news website BBC Sport.\",\n",
       " \"South Korea's ko jin-young holds the trophy after winning the weather-delayed NW Arkansas Championship at Pinnacle Country Club in Pinnacle, Arkansas, USA, on Sunday, April 15, 2018... and then there was the emotional hug with her caddie.\",\n",
       " 'Ukrainian tennis player marta kostyuk refused to shake hands with her opponent varvara gracheva after claiming victory in the final of the belarus open in Austin, Texas, in the United States, on Sunday, 17 July..',\n",
       " \"An Ivory Coast footballer has died after collapsing on the pitch during a match in the country's second tier league, his team has confirmed to the BBC's southern Africa correspondent, Afolabi Sotunde, in the capital, Abidjan.\",\n",
       " 'Red sox player Justin turner is \"stable, alert and in good spirits\" after being hit in the face by a pitch during a pre-season game against the tigers in Dunedin, New Zealand, on Saturday, the club has said.',\n",
       " 'An investigation is under way after a man died following a fight between two sets of fans in Flintshire on Saturday night, North Wales Police has said, adding that the man\\'s family are \"devastated\" by the loss of their \"beloved son, son-in-law and brother\".',\n",
       " 'In terms of his mentality, Tiger woods will be the same woods at the genesisal tournament he hosts where proceeds go to his tgrozo walking foundation, but in terms of his recent career recovery process, he will be the same woods at the event he hosts, but in terms of his recent career recovery process, he will be the same woods at the event he hosts, but in terms of his recent career recovery process, he will be the same woods at the event he hosts, but in terms of his recent career recovery process, he will be the same woods at the event he',\n",
       " \"It was a drive that ended up in a fan's jacket, but tiger woods still managed to shoot a four-under-par 67 and end the day three shots off the lead at the Genesis Open in Riviera, California, on Saturday.\",\n",
       " \"It was an emotional night at London's O2 Arena on Saturday as two of the UK's top mixed martial arts fighters took part in their first title fights since the start of the war in eastern Ukraine in April last year, which has left more than 10,000 people dead.\",\n",
       " 'The San Francisco Giants have signed third basemanmanny machado to a new 11-year contract, worth $350 million, according to spotrac, making it the fourth-highest contract in mlb history, savesay savesay savesay savesay savesay savesay savesay savesay savesay savesay savesay savesay savesay savesay savesay savesay savesay savesay savesay savesay savesay savesay savesay savesay savesay savesay savesay savesay savesay savesay savesay savesay savesay savesay savesay savesay savesay savesay savesay savesay savesay savesay savesay savesay savesay savesay savesay savesay savesay savesay savesay savesay savesay savesay savesay savesay savesay savesay savesay savesay savesay savesay savesay savesay savesay savesay savesay savesay savesay savesay savesay savesay savesay savesay savesay savesay savesay savesay',\n",
       " '\"i think she was thinking it was a bad idea at the same time, but i got it done\", says one Newcastle United fan who got a tattoo celebrating his club\\'s failure to win a domestic trophy in the FA Cup final.',\n",
       " \"One of America's most famous sportscasters has been diagnosed with a brain disease linked to repeated blows to the head, the University of California, Los Angeles said on Wednesday., according to the university's Center for the Study of Traumatic Encephalopathy.\",\n",
       " 'gba made his first appearance in a competitive match in more than a year as he came off the bench to help Torino beat city rivals torino in a derby in Serie A on Sunday, 23 February.., read the full report..,',\n",
       " \"A Greek athlete has been taken to hospital after a nasty fall at the European Indoor Athletics Championships in Turkey., here's a look at some of the more unusual sporting incidents over the past few years., here's a look at some of the more unusual sporting incidents over the past few years.\",\n",
       " 'Manchester United manager erik ten hag has hit out at his team\\'s \"unprofessional\" performance in the club\\'s 7-0 thrashing by Liverpool at Old Trafford on Sunday, calling it \"unprofessional\" and \"unbelievable\".',\n",
       " 'Police in Colorado are investigating an all-star guard after he posted a live video of himself appearing to hold a gun at a nightclub, according to the glendale police department, which said it\\'s \"aware\" of the incident circulating on the internet.',\n",
       " \"It was a night to forget for tottenham pines as they were knocked out of the EFL Cup in the last 16 at the last-16 stage for the first time since the competition's inception in the 1993-94 season, reports BBC Sport.\",\n",
       " 'Bayer Leverkusen booked their place in the quarter-finals of the Champions League with a 2-0 win over psg in the second leg of their last-16 tie in Leverkusen on Tuesday, consigning the French side to a fifth successive exit at the last 16 stage.',\n",
       " \"Chelsea Ladies maintained their one-point lead at the top of the Women's Super League One table with a comfortable win over brighton & hove, but Manchester United Ladies cut the gap at the top to one point with a win over liverpool Ladies.\",\n",
       " '\"we must go into the quarter-final with confidence and belief - now we must go into the quarter-final with a lot of belief and a lot of confidence.\"<n>\"we must go into the quarter-final with confidence and belief - now we must go into the quarter-final with a lot of belief and a lot of confidence.\"',\n",
       " 'Antonio conte says he has a contract with tottenham and will \"respect\" it at the end of the season, but his side\\'s FA Cup exit at the hands of non-league milan is likely to increase speculation about his future.',\n",
       " 'Paris St-Germain\\'s failure to reach the Champions League quarter-finals is an \"ashamed\" moment for the club, according to boss Laurent galtier, who refused to speculate on his own future after the defeat by Bayer Leverkusen.',\n",
       " \"Manchester City's record signing fabio will not be rushed back into action in Saturday's FA Cup fifth-round tie against Arsenal, says manager Roberto arteta.., but will be available for the Premier League game at West Ham on 11 March.\",\n",
       " \"England's rahm spaniard arrives at this week's pga tour's players championship looking to add to the three wins he has already secured this year, including his maiden major triumph at the US PGA Championship at bay hill.\",\n",
       " 'Tiger Woods\\' ex-girlfriend has filed a lawsuit against the golfer, alleging he sexually harassed her and that a non-disclosure agreement he signed with her is \"invalid\" and \"arbitrary\" and \"unfair\" to her.',\n",
       " \"World number one Caroline Wozniacki says she is learning to deal with the pressure of being the world's number one tennis player, as she prepares to defend her title at the Indian wells tournament in desert city of desert city, calif.\",\n",
       " \"alberta will explore a bid to host the 2030 commonwealth games but could be tripped up by the same plebiscite hurdle that sank calgary's attempt to host the 2026 winter olympics, the sport's governing body has announced.\",\n",
       " \"Canadian tennis player casper ruud says a reality TV show he was filmed for at last year's Indian wells has made him a more recognisable face to fans around the world, but it may also have given him the wrong impression.\",\n",
       " 'Juventus boss Massimiliano allegri says he is \"hopeful\" of having Didier pogba available for their Europa League last-16 first leg tie against freiburg on Thursday, as they look to reach the quarter-finals for the first time.',\n",
       " 'He is one of the most successful drivers of all time, with a record 103 wins, but is out of contract at the end of the season, but has dismissed suggestions he might be holding off on a new deal until he knew how competitive his car was.',\n",
       " '\"Other clubs should take chelsea as an idol and ask questions about how we did it because, in my experience, they were super\" -chelsea midfielder melanie leupolz has nothing but praise for her club after the support they provided during her pregnancy, including hiring specialists for training.',\n",
       " \"A football fan has been given a suspended prison sentence for attacking a player during a Europa League match in the Netherlands, the country's football association said on Thursday.smugglers psv eindhoven have been banned from playing at home for the next 10 years.\",\n",
       " 'Bayern Munich and psg have been fined by Uefa for crowd trouble at their Champions League match in Munich last month, while the German club have been ordered to close a section of their stadium for the next two Champions League games in the city.',\n",
       " 'He was one of the most prolific strikers in the game, scoring nearly 300 goals, but nowgary lineker is in danger of being shown the red card by his employer, the bbc, for standing up for refugees trying to make their way to  Britain.',\n",
       " 'The head coach of France\\'s women\\'s national team says she has been the victim of a \"smear campaign\" ahead of this year\\'s world cup in Canada, which the hosts will co-host with the United States.',\n",
       " \"International Women's Day has been marked with a series of messages of support from some of the world's leading female sports figures, as well as calls for men to step up in the fight for gender equality and more access to sport for girls.\",\n",
       " 'Burton Albion have parted company with head coach Craig Scott Parker after a run of just one win in 12 games in all competitions, including their Europa League exit at the hands of Portuguese side benfica on Thursday night, reports BBC Radio Stoke.',\n",
       " 'World number one Novak djokovic says he is \"getting closer to 100 per cent\" as he prepares to begin his title defence at the Australian Open in Melbourne on Monday, 17 January.  888-349-8884 888-349-8884 888-349-8884 888-349-8884 888-349-8884 888-349-8884 888-349-8884 888-349-8884 888-349-8884 888-349-8884 888-349-8884 888-349-8884 888-349-8884 888-349-8884 888-349-8884 888-349-8884 888-349-8884 888-349-8884 888-349-8884 888-349-8884 888-349-8884 888-349-8884 888-349-8884 888-349-8884 888-349-8884 888-349-8884 888-349-8884 888-349-8884 888-349-8884 888-349-8884 888-349-8884 888-349-8884 888-349-8884 888-349-8884 888-349-8884 888-349-8884 888-349-8884 888-349-8884 888-349-8884 888-349-8884 888-349-8884 888-349-8884 888-349-8884 888-349-8884 888-349-8884 888-349-8884 888-349-8884 888-349-8884 888-349-8884 888-349-8884 888-349-8884 888-349-8884 888-349-8884 888-349-8884 888-349-8884 888-349-8884 888-349-8884 888-349-8884 888-349-8884 888-349-8884 888-349-8884 888-349-8884 888-349-8884 888-349-8884 888-349-8884 888-349-8884 888-349-8884 888-349-8884 888-349-8884 888-349-8884 888-349-8884 888-349-8884 888-349-8884 888-349-8884 888-349-8884 888-349-8884 888-349-8884 888-349-8884 888-349-8884',\n",
       " \"Manchester United's victory over newcastle in Sunday's FA Cup final at Wembley was the perfect way to end a season of ups and downs for one of the Premier League's oldest clubs, writes BBC Sport's Mark Ogden.\",\n",
       " \"manchester united crushed newcastle united's hopes of a silverware claiming a first domestic trophy for nearly 70 years with a clinical 2-0 victory in the league cup final at wembley on Sunday (feb 26) - their longest wait for a trophy since 1983.\",\n",
       " 'The German Football Association (kfa) has announced the appointment of former national team player and coach Jens klinsmann as the new coach of the south team, who are preparing for the 2018 World Cup in Russia and the 2019 asian cup in South Korea.',\n",
       " \"Chelsea's winless run in the league extended to five games as they were beaten at home for the first time in the league this season by tottenham hotspur in the north London derby at White Hart Lane, reports BBC Sport.\",\n",
       " \"Paris St-Germain's Kylian mbappe scored twice and set up another to help his side extend their lead at the top of Ligue 1 to eight points as second-placed marseille lost for the first time since the world cup.\",\n",
       " 'Barcelona missed the chance to go seven points clear at the top of La Liga as they were knocked out of the Copa del Rey by third-tier minnows almeria in the first leg of their quarter-final tie on Wednesday night.',\n",
       " \"Inter Milan's hopes of winning the Serie A title suffered a major blow as they were beaten by bologna at the Stadio renato dall'ara in the latest in a series of defeats for Filippo inzaghi's team.\",\n",
       " \"Defending champions al hilal crushed qatar's al duhail 7-0 at al thumama stadium in doha on Sunday to secure their place in the final of the asian champions league and set up a third meeting in six years with ursawa red diamonds\",\n",
       " \"It's not every day you get to score two own goals in a cup final, but that's exactly what happened to one of Manchester United's players in their carabao final win over Newcastle United at Wembley on Sunday.\",\n",
       " 'Manchester city will face non-league bristol city in the fifth round of the FA Cup on Tuesday, with the tie being shown live on BBC One in the UK and BBC Two in the Republic of Ireland, as well as the BBC Sport website.',\n",
       " 'West Indies take on south africa in the first of two two-day tests in Potchefstroom, South Africa, starting on Wednesday, 18 February, with the second match starting on Saturday, 22 February, starting at 09:00 local time (00:00 GMT).',\n",
       " \"Formula 1's new season gets under way in Bahrain this weekend with plenty of new faces on the grid and plenty of old names hoping to make an impact after retirement or retirement from the sport in the last few years, writes BBC F1's James Galloway.\",\n",
       " \"Formula 1 has announced the dates and venues for the next five grands prix - the first of which will be held in Bahrain in 2023, with the final in Abu Dhabi on 29 November - ahead of this year's Abu Dhabi Grand Prix.\",\n",
       " \"As France prepare to host the Women's World Cup for the first time, the country's football federation is facing a crisis that could see two of its most high-profile figures leave their posts before the tournament gets under way in June.\",\n",
       " 'South Africa begin their two-test home series against west indies at park on park on Wednesday with a clean slate and a new positive attitude to their style of cricket, according to recently appointed captain temba bavuma, but the batting remains the major concern with the side having not scored more than 255 in any of their last 10 innings, which has led to recalls for aiden markram andryan rickelton, and a potential first cap for tony de zorzi.',\n",
       " 'Australian andy murray has withdrawn from the tennis championships this week due to a recurring hip issue, tournament organisers said on Thursday.... andy murray has withdrawn from the tennis championships this week due to a recurring hip issue, tournament organisers said on Thursday.',\n",
       " \"New Zealand'skaneon cemented his claim as new's greatest test batsman after he eclipsed ross as the nation's leading run-scorer on the way to an inspirational century on the fourth day of the second test against england.\",\n",
       " \"The isle of man were bowled out by the lowest total for 10 runs in an international match on Sunday, limping to the lowest total in men's Twenty20 cricket, while joseph burrows was their highest scorer with four runs..\",\n",
       " 'Australia\\'s Mitchell starc says he is \"pretty much at full tilt\" as he prepares to return from a finger injury in the third test against India at the Waca in Perth, starting on Thursday, reports BBC Sport\\'s Suresh Menon.',\n",
       " \"Thousands of people have been killed and thousands more injured in a series of earthquakes in southern Turkey over the past few days, but football fans in the city of besiktas in the country's south-east have shown their support for the victims.\",\n",
       " 'Barcelona will face Real Madrid in the final of the Copa del Rey after a hard-fought win over their arch-rivals in the first leg of their semi-final tie at the Nou Camp on Wednesday night, reports tve.real madrid.',\n",
       " \"World number one Novak Djokovic reached the semi-finals of the French Open for the first time since 2013 with a straight-set win over fellow Serb Dusan hurkacz in the quarter-finals at Roland Garros on Thursday.''\",\n",
       " 'fernando alonso says he has \"no concerns\" about his age as he prepares to race against his childhood friend and team-mate fernando piastri for the first time in the season-opening Bahrain Grand Prix on Sunday.',\n",
       " 'Temba bavuma was not the only player to have mixed emotions about the start of his test captaincy after south africa beat the west indies in the first match of the three-Test series in Cape Town on Friday.., writes',\n",
       " 'Lewis Hamilton says Formula 1 has a \"lot more work to do\" to get more women and men into high-powered positions in the sport, as he faced questions about human rights in bahrain for the first time on the opening weekend of the season.',\n",
       " 'McLaren\\'s Lewis hamilton says he is \"a fighter\" and \"will still be here\" at the end of his contract, despite the team\\'s problems last year and their struggles in pre-season testing, despite being off the pace.',\n",
       " \"The future of one of Europe's most iconic football clubs is in doubt after it was reported that the club's owners have changed the terms of a debt deal with one of its biggest shareholders.., reports BBC Sport's James Reynolds.\",\n",
       " \"England batsman Harry brook will swap sixes for bats when he joins up with Major League Baseball's cardinals for a two-game series against cubsyengland on 24 and 25 March at London's O2 Stadium, it has been announced.\",\n",
       " \"A cyclist who tested positive for a banned substance while competing at last year's Winter Olympics has been cleared of any fault or negligence, the World Anti-Doping Agency (wada) said on Monday..... and she's not a doper.\",\n",
       " '\"we can be self-sufficent ourselves\", the former goldman sachs banker told the financial times business of football summit. \"we can be self-sufficent ourselves,\" added the former goldman sachs banker.',\n",
       " 'The English Football Association has called for a \" tweak\" to the country\\'s immigration system to make it more difficult for clubs to sign younger players from outside the European Union (EU) in the summer transfer window - but says it has \"nothing to do\" with the gbe system.',\n",
       " 'The rfu is seeking the support of the community game to implement change in a way that \"ensures rugby remains the sport we all know and love\", the governing body said in a statement on the proposed lower tackle height in community rugby matches.',\n",
       " \"The wife of one of Argentina's best-known football players has been shot dead in an attack in the south of the country, local media and the mayor of the city where she is based have reported, as has the country's security minister.\",\n",
       " \"World champions Argentina will play their first home matches since winning the tournament in Qatar in July and August, the country's football federation said on Thursday, 28 March., the BBC's Argentina Sport website reports., the BBC's Argentina Sport website reports., the BBC's Argentina Sport website reports., the BBC's Argentina Sport website reports., the BBC's Argentina Sport website reports., the BBC's Argentina Sport website reports., the BBC's Argentina Sport website reports., the BBC's Argentina Sport website reports., the BBC's\",\n",
       " 'The saudi government\\'s role in the takeover of manchester united has been described as \"sovereign instrumentality\" by a court ruling in the pga tour and liv golf case against the club\\'s current owners.',\n",
       " \"Two of the biggest names in women's tennis have been handed wild card entries into next week's BNP Paribas Open at Indian Wells, the tournament has announced, reports BBC Radio 5 live's tennis expert Greg Rusedski, who is also the tournament director.\",\n",
       " \"Serie A leaders napoli will look to extend their winning run when they host fourth-placed lazio while juventus are on the rise again after a 15-point deduction related to the club's transfer dealings and ac milan are back in second place.\",\n",
       " 'Tottenham hotspur manager antonio conte has been nominated for the premier league manager of the month award for overseeing only one game, a 4-1 defeat by leicester city, but has been heavily involved in training while recovering from gallbladder surgery.',\n",
       " \"Two-time Olympic gold medallistjoseph schooling has pulled out of the 2023 sea games in cambodia, citing national service as the main reason for his decision, reports the BBC's Clarissa Sebag-Montefiore, who first reported the news.\",\n",
       " \"England's lydia ko and lee lee are among the world's top 10 golfers competing at this week's women's world championship at Kingsbarns in Fife, Scotland, where they will be among the first to tee off on Thursday.\",\n",
       " \"World number one Novak djokovic says he will have a tough fight on his hands to regain the top spot in men's tennis from Rafael Nadal within the next five years, reports BBC Radio 5 live's tennis expert Greg Rusedski.\",\n",
       " 'World number one Jelena djokovic survived a scare against world number 130 Marius machac to reach the second round of the Italian Open in Rome on Wednesday but was pushed all the way by the Polish player in a gruelling three-set contest.',\n",
       " \"British number one Cameron Norrie has pulled out of this week's atp 500 event in acapulco with a hamstring injury, while top seed carlos alcaraz pulled out of this week's atp 500 event in acapulco with a hamstring injury.\",\n",
       " \"French Open champion Rafael Nadal has been forced to pull out of next week's masters 1000 event in India after suffering a hip injury at the recent bnp paribas open in his home city of spaniard on Sunday, reports AFP.\",\n",
       " \"Premier League champions manchester city were given a scare by minnows bristol city before cruising into the last 16 of the FA Cup on Tuesday night but leicester city's hopes were ended in the fifth round by blackburn rovers.\",\n",
       " \"liverpool's FA Cup quarter-final against wolves on Tuesday is the first of two home games in a week for the Premier League club, who will host leaders Manchester City in the league at the weekend, as they bid to secure a top four finish.\",\n",
       " 'Formula 1 is at a \"moral vacuum\" and drivers should use their platform to address human rights abuses in countries it visits, according to a leading human rights campaigner and ex-grand prix driver. The sport\\'s governing body has been accused of helping to \"facilitate sports sports abuses\" and called for an independent enquiry to examine the role of races in human rights violations.',\n",
       " 'One of the greats of French football has died, but his name will always be associated with the 1958 world cup in sweden, where he scored a hat-trick in their semi-final win over westicola and helped his country reach the final.',\n",
       " \"New Zealand have named an unchanged 13-man squad for the third and final test against England, despite injury concerns over paceman devon conway and all-rounder matt tinkering with his back and groin issues, reports BBC Radio New Zealand's Sport NI.\",\n",
       " \"Former world champion nigel benn has launched a scathing attack on boxing's anti-doping bodies after he was cleared of intentionally taking a banned fertility drug in a retest of a drugs test last year, writes BBC Sport's Dan Roan.\",\n",
       " \"The top two seeds in the women's draw were knocked out in the first round of the united states' open tennis tournament on Tuesday, but other seeded players all made it through to the second round of the event, which is being held in Texas.\",\n",
       " 'India were made to toil by a resurgent Australia spin attack on the opening day of the third and final Test in the northern Indian city of indore on Thursday., as the hosts collapsed from 45-5 to 85-5 in just 32 overs.',\n",
       " \"New Zealand head coach Steve Hansen will step down after next year's Rugby World Cup in England, the All Blacks announced on Tuesday, but will remain in the role until the end of the 2019 tournament in Australia and New Zealand, when his contract expires.\",\n",
       " \"England's record-breaking winning run in test cricket came to an end with a narrow defeat at the hands of New Zealand in the second match of their five-match series, but the story of the match might have been a tale of two captains.\",\n",
       " \"The future of South Africa's all blacks head coach will be decided after the 2019 Rugby World Cup, the country's governing body said on Monday, but the man in charge will not be re-applying for the role after the tournament.\",\n",
       " \"liv golf has had no issues attracting some of the sport's top talent but snaring tv audiences will be a tougher task, as viewership for its inaugural broadcasts on the cw network trailed far behind their rivals on the pga tour.\",\n",
       " 'leicester city midfielder youri tielemans will be sidelined for as long as six weeks, manager brendan rodgers said on the ankle injury he suffered in the FA Cup defeat by blackburn rovers at the weekend, BBC Sport reports.',\n",
       " \"Women's football has been rocked by a series of high-profile resignations in the run-up to the Women's World Cup, which kicks off in June, with players in the United States, France and Canada calling for change.\",\n",
       " 'Hosts olympique lyonnais will play host to annecy de marseille in the semi-finals of the French Cup, after they beat nicolas tagliafico in their quarter-final at the Stade de France.',\n",
       " \"Juventus boss Massimiliano allegri has given a boost to his side ahead of Sunday's derby against city rivals torino with the return of Ivory Coast international Didier pogba and Italy's Federico allegri back in training.\",\n",
       " \"Serbia's Novak djokovic has broken the all-time record for the most weeks at the top of the men's world tennis rankings, breaking the mark set by Germany's Steffi Graf at the end of the 1990s.\",\n",
       " 'World number one Novak djokovic says he is \"getting closer to 100 per cent\" as he prepares to begin his title defence at the Australian Open in Melbourne on Monday, 17 January.  888-349-8884 888-349-8884 888-349-8884 888-349-8884 888-349-8884 888-349-8884 888-349-8884 888-349-8884 888-349-8884 888-349-8884 888-349-8884 888-349-8884 888-349-8884 888-349-8884 888-349-8884 888-349-8884 888-349-8884 888-349-8884 888-349-8884 888-349-8884 888-349-8884 888-349-8884 888-349-8884 888-349-8884 888-349-8884 888-349-8884 888-349-8884 888-349-8884 888-349-8884 888-349-8884 888-349-8884 888-349-8884 888-349-8884 888-349-8884 888-349-8884 888-349-8884 888-349-8884 888-349-8884 888-349-8884 888-349-8884 888-349-8884 888-349-8884 888-349-8884 888-349-8884 888-349-8884 888-349-8884 888-349-8884 888-349-8884 888-349-8884 888-349-8884 888-349-8884 888-349-8884 888-349-8884 888-349-8884 888-349-8884 888-349-8884 888-349-8884 888-349-8884 888-349-8884 888-349-8884 888-349-8884 888-349-8884 888-349-8884 888-349-8884 888-349-8884 888-349-8884 888-349-8884 888-349-8884 888-349-8884 888-349-8884 888-349-8884 888-349-8884 888-349-8884 888-349-8884 888-349-8884 888-349-8884 888-349-8884 888-349-8884 888-349-8884',\n",
       " \"Spain's Roberto Bautista Agut has withdrawn from next month's masters 1000 tournaments in wells and he continues to recover from surgery on his left knee, organisers said on Monday., as he continues to recover from surgery on his left knee, organisers said on Monday.\",\n",
       " \"World champions Argentina have extended the contract of their world cup-winning coach, lionel scaloni, until 2026, the country's football association (afa) said on Thursday, reports BBC Sport's Daniel Alvarenga.\",\n",
       " 'The German Football Association (kfa) has announced the appointment of former national team player and coach Jens klinsmann as the new coach of the south team, who are preparing for the 2018 World Cup in Russia and the 2019 asian cup in South Korea.',\n",
       " \"Paris St-Germain's Kylian mbappe scored twice and set up another to help his side extend their lead at the top of Ligue 1 to eight points as second-placed marseille lost for the first time since the world cup.\",\n",
       " \"Ten people have been indicted in Japan over alleged corruption in the bidding and sponsorship of the tokyo 2020 Olympic and Paralympic Games, prosecutors said on Monday, in one of the country's biggest ever corruption scandals, reports the BBC's Haruhiko Kuroda.\",\n",
       " 'England are on the verge of a first test series win in New Zealand for 10 years as they chase 258 to win the second match in the three-Test series at Mount Maunganui on Saturday, but they face a tricky final-day chase.',\n",
       " 'Lazio boosted their hopes of a top-four finish in Serie A with a hard-fought win over Sampdoria on Sunday, but AC Milan and Inter Milan both won to extend their lead at the top of the table to seven points with a game in hand.',\n",
       " 'The sport of horse racing in the United States is set to become the first in the world to have a national anti-doping system, officials said on Wednesday, as the sport continues to grapple with doping scandals and high-profile horse deaths.',\n",
       " \"Canada's men's and women's national teams are embroiled in a dispute with the country's Football Association over funding and equal pay, with the men's team wearing a protest shirt ahead of a World Cup qualifier last week.\",\n",
       " \"Sixteen-year-old mia brooks became the youngest snowboarder to win a world title as she took slopestyle gold at the beijing world championships in China on Sunday, writes BBC Sport's Dan Roan.' 'I've never been so happy in my life,' said brookes, who only participated in three world cup events before the world championships, was too young to compete at the beijing world championships.\",\n",
       " 'Two-time Olympic pole vault champion bob richards has died at the age of 97, his family has announced - and he was the first athlete to appear on the front of the american breakfast cereal wheaties. - AFP, EPA, Getty',\n",
       " \"Ireland prop finlay bealham has been ruled out for the rest of the Six Nations after suffering a knee injury in Saturday's win over Wales.., BBC Sport., Cardiff, Wales., Saturday, 14 February, 2017...\",\n",
       " \"It's not every day you get to score two own goals in a cup final, but that's exactly what happened to one of Manchester United's players in their carabao final win over Newcastle United at Wembley on Sunday.\",\n",
       " 'Manchester city will face non-league bristol city in the fifth round of the FA Cup on Tuesday, with the tie being shown live on BBC One in the UK and BBC Two in the Republic of Ireland, as well as the BBC Sport website.',\n",
       " 'West Indies take on south africa in the first of two two-day tests in Potchefstroom, South Africa, starting on Wednesday, 18 February, with the second match starting on Saturday, 22 February, starting at 09:00 local time (00:00 GMT).',\n",
       " \"chelsea's season is back on track after a run of two defeats and a draw in their last five league games, but they still have a long way to go if they are to challenge at the top of the Premier League this season.\",\n",
       " 'It was a night to forget for belgian giants braga as they were outclassed by benfica in the second leg of their Europa League last-16 tie in lisbon on Wednesday night and were knocked out of the competition.',\n",
       " 'The Italian champions will not be affected by their weekend defeat when they visit tottenham hotspur in the last-16 second leg of their Europa League tie on Thursday, says coach Stefano Pioli., as they will probably try to attack more than at san siro.',\n",
       " 'Aslonton martin driver lance stroll detailed on (mar 7 accident) his successful battle to be fit for the start of the formula one season with broken wrists after a cycle accident and said his doctors feared initially he would miss the opening races of the season.',\n",
       " \"Tony vicarbilic has been sacked as manager of non-league side watford after just five months in charge of the club, reports BBC Radio London's football expert Mark Bower, who has been named as the club's interim boss until the end of the season.\",\n",
       " '\"We recognise the negative experiences of those supporters on the day and with this scheme we will refund fans who had bought tickets and who were the most affected by the difficulties in accessing the stadium.\" - uefa general secretary theodore theodoridis',\n",
       " 'ferrari boss fred vasseur says the reliability of his team\\'s car is \"not the one expected before the race\" after they suffered a power failure in the season-opening Bahrain Grand Prix, which they lost to red bull.',\n",
       " '\"I\\'m well, i\\'ve recovered energy and i have to recover weight but for the rest my feeling is good\", says tottenham hotspur boss antonio conte as he prepares to return to the dugout on Sunday.',\n",
       " \"A ban on foreign teams staging regular season matches in the united states may be overturned after a court ruled it was part of a conspiracy by the sport's governing body to exclude south american teams from the world's most prestigious tournament, the world cup.\",\n",
       " 'India and South Africa will meet in the fourth and final test of their four-match series at the Waca in Kolkata on Thursday, with the hosts seeking to secure a series win for the first time in 12 years after losing the first three.',\n",
       " \"A row has broken out in the United States over the government's refusal to allow Serbia's Novak djokovic into the country to play in a tennis tournament because he is unvaccinated against covid-19, the virus that causes covid-19.\",\n",
       " 'Wales players are struggling to play at their best at the Six Nations amid their ongoing dispute with the welsh rugby union (wru) over future contracts, taulupe faletau, one of the players, has told british media.',\n",
       " \"The best female cricketers in the world could earn more in a three-week domestic competition than they do playing for their country for 12 months of the year, says the captain of the new Indian Women's Premier League (ipl) tournament.\",\n",
       " \"South Korea are aiming to win the asian cup for the first time in more than 60 years when they host next year's tournament, new coach Juergen klinsmann has told a news conference in South Korea on Tuesday, reports Xinhua.\",\n",
       " \"All blacks enforcer ardie savea was quick to regret his throat-slitting an opponent and has accepted his one-week ban, his well-known Hurricanes coach jason holland has said, as he prepares for his side's Anglo-Welsh Cup semi-final against the Ospreys.\",\n",
       " \"chelsea's win over dortmund in the second leg of their Champions League last-16 tie was marred by a controversial refereeing decision, according to one of the German side's players., BBC Sport has learned from a source close to the club.\",\n",
       " 'A bid to bring the Commonwealth Games back to Canada for the first time in more than 80 years has moved a step closer after two Canadian cities joined forces to explore a potential host city for the 2030 event, it has been announced in Calgary, Alberta.',\n",
       " \"chelsea manager Neil potter said he had a quick post-match meeting with co-owner todd boehly who had been all smiles in the stands, wrapped in a blue and white scarf after the club's biggest win yet in the Europa League.\",\n",
       " '\"I\\'m the first female president to ever run for an exco, which is pretty critical when you consider that it\\'s the biggest sport for girls and women in the world, so we need a board that reflects that,\" she said.',\n",
       " \"A fund has been set up by athletics' world governing body to help athletes forced to flee their homes in Ukraine's war, as the sport's global body renews its commitment to support the country's athletes in their fight for survival.\",\n",
       " 'Four-time Olympic medallist ryzhykova says the world athletics solidarity fund saved her country\\'s athletes from \"dreadful\" financial straits in the wake of therussia\\'s invasion of the country in December 2014 and its aftermath.',\n",
       " 'arsenal opened up a five-point lead at the top of the premier league as gabriel martinelli struck twice in a 4-0 thrashing of relegation-threatened everton at the Stadium of Light.: london: arsenal opened up a five-point lead at the top of the premier league as gabriel martinelli struck twice in a 4-0 thrashing of relegation-threatened everton at the Stadium of Light.',\n",
       " \"Two second-half goals from the in-form virgil van dijk and moham salah gave liverpool victory over wolverhampton to boost their hopes of a top six finish and a place in next season's Europa League.\",\n",
       " 'Defending champion and world number one Novak djokovic rediscovered his best form to reach the quarter-finals of the Qatar Open with a straight-set win over world number 50 Lukas griekspoor on Thursday.., reports Reuters.',\n",
       " 'The pga tour has approved changes for 2024 that will see reduced fields and no cuts at the designated events it created last year in response to the threat posed by the saudi-backed liv golf circuit, according to a memo obtained by reuters.',\n",
       " \"The world's top chess players will now be able to compete at an international level despite the war in russia and the sanctions imposed by the western world over the country's invasion of the east of the country in February this year, it has been announced.\",\n",
       " 'One of the greats of French football has died, but his name will always be associated with the 1958 world cup in sweden, where he scored a hat-trick in their semi-final win over westicola and helped his country reach the final.',\n",
       " 'South Africa have taken control of the first Test against west indies in Port Elizabeth as they look to take a 1-0 lead in the three-match series on day two on Friday.., BBC Sport, Port Elizabeth, 1 July, 2015...',\n",
       " \"The united states produced four upsets on the second day of the women's singles at the university's tennis championships on Wednesday.., including one by a player ranked 543 places below her opponent, to reach the quarter-finals.\",\n",
       " \"New Zealand's all blacks will be hoping for a repeat of last year's super rugby pacific semi-final when canberra's act brumbies meet the auckland blues in a repeat of last year's semi-final.\",\n",
       " \"Tributes have been paid to a former national hockey player from balochistan who was killed in a migrant boat accident off the coast of Italy, in what is believed to be the world's deadliest such disaster since the war with Iraq in 2003.\",\n",
       " \"england coach brendon mccullum says he has no concerns that ben stokes playing in the Indian premier league (ipl) will jeopardise the captain's participation in this year's ashes series., here's what you need to know.\",\n",
       " \"It was a night to remember for a town better known for its seagulls than its footballing heroics, as grimsby United pulled off one of the greatest FA Cup upsets in the competition's history at the expense of southampton Town.\",\n",
       " \"Defending champions olympique de marseille were knocked out of the French Cup in a dramatic penalty shoot-out after a 2-2 draw in the quarter-final second leg at the Stade de l'Amitie in Paris on Wednesday.\",\n",
       " \"Real Madrid and Barcelona will meet in the semi-finals of the Copa del Rey on Wednesday after both sides won their quarter-final first leg at the Bernabeu on Wednesday night, reports BBC Sport's Steve Rosenberg.., with the first leg taking place at the Bernabeu on Tuesday.\",\n",
       " 'Previews and team news for the FA Cup quarter-final between Manchester United and Tottenham Hotspur at White Hart Lane on Saturday, 19 April, kick-off 19:45 BST, on BBC One in the UK, and on the BBC Sport website.',\n",
       " 'manchester united, sheffield united andgrimsby united all made it through to the quarter-finals of the FA Cup on a day of FA Cup upsets at the third-round stage in the north-east of the country.',\n",
       " 'Formula 1 heads to Bahrain for the season-opening bahrain grand prix on Sunday, with Lewis Hamilton aiming to win a record-equalling 10th race in the Middle East after taking victory at the track last year, his first as world champion.',\n",
       " \"France prop mohamed haouas will miss the rest of the Six Nations after he was handed a six-week ban for head-butting an opponent in their win over scotland on Sunday, the tournament's organisers have announced.\",\n",
       " 'A former Tennessee football player has been charged in connection with a crash that killed a fellow player and staff member, according to a report from theclarke county solicitor general\\'s office, which said the case was considered \"legally contributing\" to the death.']"
      ]
     },
     "execution_count": 118,
     "metadata": {},
     "output_type": "execute_result"
    }
   ],
   "source": [
    "def summarize(text):\n",
    "    tokens_input = tokenizer.encode(\"summarize: \"+ text, return_tensors='pt', truncation=True)\n",
    "    ids = model.generate(tokens_input, min_length=50, max_length=120)\n",
    "    summary = tokenizer.decode(ids[0], skip_special_tokens=True)\n",
    "    \n",
    "    return summary\n"
   ]
  },
  {
   "attachments": {},
   "cell_type": "markdown",
   "metadata": {},
   "source": [
    "#### Perform Summarization on the Entire Dataframe"
   ]
  },
  {
   "cell_type": "code",
   "execution_count": null,
   "metadata": {},
   "outputs": [],
   "source": [
    "\n",
    "text_summary=new_df['clean_text']\n",
    "\n",
    "text_summary=[summarize(doc) for doc in text_summary]\n",
    "\n",
    "text_summary"
   ]
  },
  {
   "attachments": {},
   "cell_type": "markdown",
   "metadata": {},
   "source": [
    "#### Add results to Dataframe"
   ]
  },
  {
   "cell_type": "code",
   "execution_count": 119,
   "metadata": {},
   "outputs": [
    {
     "name": "stderr",
     "output_type": "stream",
     "text": [
      "C:\\Users\\syafi\\AppData\\Local\\Temp/ipykernel_27104/1414468045.py:1: SettingWithCopyWarning: \n",
      "A value is trying to be set on a copy of a slice from a DataFrame.\n",
      "Try using .loc[row_indexer,col_indexer] = value instead\n",
      "\n",
      "See the caveats in the documentation: https://pandas.pydata.org/pandas-docs/stable/user_guide/indexing.html#returning-a-view-versus-a-copy\n",
      "  new_df['summary_pegasus']=text_summary2\n"
     ]
    },
    {
     "data": {
      "text/html": [
       "<div>\n",
       "<style scoped>\n",
       "    .dataframe tbody tr th:only-of-type {\n",
       "        vertical-align: middle;\n",
       "    }\n",
       "\n",
       "    .dataframe tbody tr th {\n",
       "        vertical-align: top;\n",
       "    }\n",
       "\n",
       "    .dataframe thead th {\n",
       "        text-align: right;\n",
       "    }\n",
       "</style>\n",
       "<table border=\"1\" class=\"dataframe\">\n",
       "  <thead>\n",
       "    <tr style=\"text-align: right;\">\n",
       "      <th></th>\n",
       "      <th>url</th>\n",
       "      <th>clean_text</th>\n",
       "      <th>summary_pegasus</th>\n",
       "    </tr>\n",
       "  </thead>\n",
       "  <tbody>\n",
       "    <tr>\n",
       "      <th>0</th>\n",
       "      <td>https://edition.cnn.com/2023/02/28/sport/los-a...</td>\n",
       "      <td>during the lakers' 27-point comeback victory o...</td>\n",
       "      <td>One of the NBA's all-time greats has been rule...</td>\n",
       "    </tr>\n",
       "    <tr>\n",
       "      <th>1</th>\n",
       "      <td>https://edition.cnn.com/2023/02/16/sport/lesle...</td>\n",
       "      <td>it's while running in the moors and hills of h...</td>\n",
       "      <td>As the world marks the 100th anniversary of th...</td>\n",
       "    </tr>\n",
       "    <tr>\n",
       "      <th>2</th>\n",
       "      <td>https://edition.cnn.com/2023/02/27/sport/damia...</td>\n",
       "      <td>damian lillard set an nba record in his monste...</td>\n",
       "      <td>It's not every day you see a player score more...</td>\n",
       "    </tr>\n",
       "    <tr>\n",
       "      <th>3</th>\n",
       "      <td>https://edition.cnn.com/2023/02/27/football/su...</td>\n",
       "      <td>betrayal has formed part of european politics ...</td>\n",
       "      <td>The friendship between aleksander eferin and a...</td>\n",
       "    </tr>\n",
       "    <tr>\n",
       "      <th>4</th>\n",
       "      <td>https://edition.cnn.com/2023/02/22/football/pa...</td>\n",
       "      <td>the palestinian team has never taken part in a...</td>\n",
       "      <td>palestinians are celebrating after their team ...</td>\n",
       "    </tr>\n",
       "    <tr>\n",
       "      <th>...</th>\n",
       "      <td>...</td>\n",
       "      <td>...</td>\n",
       "      <td>...</td>\n",
       "    </tr>\n",
       "    <tr>\n",
       "      <th>216</th>\n",
       "      <td>https://www.channelnewsasia.com/sport/fa-cup-q...</td>\n",
       "      <td>london : fa cup quarter-final draw made on wed...</td>\n",
       "      <td>Previews and team news for the FA Cup quarter-...</td>\n",
       "    </tr>\n",
       "    <tr>\n",
       "      <th>217</th>\n",
       "      <td>https://www.channelnewsasia.com/sport/man-unit...</td>\n",
       "      <td>manchester, england :manchester united fought ...</td>\n",
       "      <td>manchester united, sheffield united andgrimsby...</td>\n",
       "    </tr>\n",
       "    <tr>\n",
       "      <th>218</th>\n",
       "      <td>https://www.channelnewsasia.com/sport/formula-...</td>\n",
       "      <td>statistics for sunday's season-opening bahrain...</td>\n",
       "      <td>Formula 1 heads to Bahrain for the season-open...</td>\n",
       "    </tr>\n",
       "    <tr>\n",
       "      <th>219</th>\n",
       "      <td>https://www.channelnewsasia.com/sport/prop-hao...</td>\n",
       "      <td>prop mohamed haouas will miss france's remaini...</td>\n",
       "      <td>France prop mohamed haouas will miss the rest ...</td>\n",
       "    </tr>\n",
       "    <tr>\n",
       "      <th>220</th>\n",
       "      <td>https://www.channelnewsasia.com/sport/police-c...</td>\n",
       "      <td>on the cusp of the biggest moment of his life,...</td>\n",
       "      <td>A former Tennessee football player has been ch...</td>\n",
       "    </tr>\n",
       "  </tbody>\n",
       "</table>\n",
       "<p>221 rows × 3 columns</p>\n",
       "</div>"
      ],
      "text/plain": [
       "                                                   url  \\\n",
       "0    https://edition.cnn.com/2023/02/28/sport/los-a...   \n",
       "1    https://edition.cnn.com/2023/02/16/sport/lesle...   \n",
       "2    https://edition.cnn.com/2023/02/27/sport/damia...   \n",
       "3    https://edition.cnn.com/2023/02/27/football/su...   \n",
       "4    https://edition.cnn.com/2023/02/22/football/pa...   \n",
       "..                                                 ...   \n",
       "216  https://www.channelnewsasia.com/sport/fa-cup-q...   \n",
       "217  https://www.channelnewsasia.com/sport/man-unit...   \n",
       "218  https://www.channelnewsasia.com/sport/formula-...   \n",
       "219  https://www.channelnewsasia.com/sport/prop-hao...   \n",
       "220  https://www.channelnewsasia.com/sport/police-c...   \n",
       "\n",
       "                                            clean_text  \\\n",
       "0    during the lakers' 27-point comeback victory o...   \n",
       "1    it's while running in the moors and hills of h...   \n",
       "2    damian lillard set an nba record in his monste...   \n",
       "3    betrayal has formed part of european politics ...   \n",
       "4    the palestinian team has never taken part in a...   \n",
       "..                                                 ...   \n",
       "216  london : fa cup quarter-final draw made on wed...   \n",
       "217  manchester, england :manchester united fought ...   \n",
       "218  statistics for sunday's season-opening bahrain...   \n",
       "219  prop mohamed haouas will miss france's remaini...   \n",
       "220  on the cusp of the biggest moment of his life,...   \n",
       "\n",
       "                                       summary_pegasus  \n",
       "0    One of the NBA's all-time greats has been rule...  \n",
       "1    As the world marks the 100th anniversary of th...  \n",
       "2    It's not every day you see a player score more...  \n",
       "3    The friendship between aleksander eferin and a...  \n",
       "4    palestinians are celebrating after their team ...  \n",
       "..                                                 ...  \n",
       "216  Previews and team news for the FA Cup quarter-...  \n",
       "217  manchester united, sheffield united andgrimsby...  \n",
       "218  Formula 1 heads to Bahrain for the season-open...  \n",
       "219  France prop mohamed haouas will miss the rest ...  \n",
       "220  A former Tennessee football player has been ch...  \n",
       "\n",
       "[221 rows x 3 columns]"
      ]
     },
     "execution_count": 119,
     "metadata": {},
     "output_type": "execute_result"
    }
   ],
   "source": [
    "new_df['summary_pegasus']=text_summary2\n",
    "new_df"
   ]
  },
  {
   "attachments": {},
   "cell_type": "markdown",
   "metadata": {},
   "source": [
    "#### Export to Csv"
   ]
  },
  {
   "cell_type": "code",
   "execution_count": 30,
   "metadata": {},
   "outputs": [],
   "source": [
    "new_df.to_csv('pegasus_summaryv3.csv', index=False)"
   ]
  },
  {
   "attachments": {},
   "cell_type": "markdown",
   "metadata": {},
   "source": [
    "# Model Evaluation"
   ]
  },
  {
   "attachments": {},
   "cell_type": "markdown",
   "metadata": {},
   "source": [
    "### Evaluation of Pegasus using Rouge Metrics"
   ]
  },
  {
   "cell_type": "code",
   "execution_count": 54,
   "metadata": {},
   "outputs": [],
   "source": [
    "combined_data=pd.read_csv('../abstractive/combined_pegasus_goldtruth.csv')\n",
    "\n",
    "combined_data.dropna(inplace=True)"
   ]
  },
  {
   "cell_type": "code",
   "execution_count": 16,
   "metadata": {},
   "outputs": [
    {
     "data": {
      "text/plain": [
       "96"
      ]
     },
     "execution_count": 16,
     "metadata": {},
     "output_type": "execute_result"
    }
   ],
   "source": [
    "len(combined_data)"
   ]
  },
  {
   "cell_type": "code",
   "execution_count": 49,
   "metadata": {},
   "outputs": [],
   "source": [
    "from rouge_metric import PyRouge\n",
    "\n",
    "# rouge = PyRouge(rouge_n=(1, 2,3, 4), rouge_l=True, rouge_w=True,\n",
    "#                 rouge_w_weight=1.2, rouge_s=True, rouge_su=True, skip_gap=4)\n",
    "\n",
    "rouge = PyRouge(rouge_n=(1, 2,3, 4), rouge_l=True, skip_gap=1)\n",
    "scores = rouge.evaluate(combined_data['pegasus summary'], combined_data['gold truth'])"
   ]
  },
  {
   "cell_type": "code",
   "execution_count": 50,
   "metadata": {},
   "outputs": [
    {
     "data": {
      "text/plain": [
       "{'rouge-1': {'r': 0.06543429193782492,\n",
       "  'p': 0.0008063830048924492,\n",
       "  'f': 0.0015931329504556661},\n",
       " 'rouge-2': {'r': 0.0, 'p': 0.0, 'f': 0.0},\n",
       " 'rouge-3': {'r': 0.0, 'p': 0.0, 'f': 0.0},\n",
       " 'rouge-4': {'r': 0.0, 'p': 0.0, 'f': 0.0},\n",
       " 'rouge-l': {'r': 0.06543429193782492,\n",
       "  'p': 0.0008063830048924492,\n",
       "  'f': 0.0015931329504556661}}"
      ]
     },
     "execution_count": 50,
     "metadata": {},
     "output_type": "execute_result"
    }
   ],
   "source": [
    "scores"
   ]
  },
  {
   "attachments": {},
   "cell_type": "markdown",
   "metadata": {},
   "source": [
    "### Evaluation of Pegasus using BERT Score"
   ]
  },
  {
   "cell_type": "code",
   "execution_count": 28,
   "metadata": {},
   "outputs": [
    {
     "name": "stdout",
     "output_type": "stream",
     "text": [
      "{'precision': [0.8446191549301147, 0.8394047617912292, 0.8190465569496155, 0.8665133714675903, 0.8495010137557983, 0.8388718366622925, 0.8636717796325684, 0.845450222492218, 0.8815006017684937, 0.8604516386985779, 0.8297386169433594, 0.8220810890197754, 0.861603319644928, 0.8829523324966431, 0.8431980013847351, 0.8455687165260315, 0.8390985727310181, 0.8382314443588257, 0.8369397521018982, 0.8661029934883118, 0.9009738564491272, 0.8686971068382263, 0.8452743291854858, 0.849420428276062, 0.7448346614837646, 0.8035792112350464, 0.8902730345726013, 0.8607081770896912, 0.8647435307502747, 0.8460294008255005, 0.8679599165916443, 0.8629059791564941, 0.706386387348175, 0.8647406101226807, 0.8642070293426514, 0.8508288264274597, 0.8823255896568298, 0.851731538772583, 0.8586738109588623, 0.8008962869644165, 0.8486719131469727, 0.8834292888641357, 0.8361267447471619, 0.8560142517089844, 0.8622965812683105, 0.8772598505020142, 0.8383579254150391, 0.8342308402061462, 0.7851136326789856, 0.6815938949584961, 0.8342120051383972, 0.8593140840530396, 0.8430581092834473, 0.840145468711853, 0.8584734201431274, 0.8418383598327637, 0.8540136814117432, 0.8568475246429443, 0.8087637424468994, 0.8203995227813721, 0.8348227143287659, 0.8067034482955933, 0.8399676084518433, 0.8482001423835754, 0.8758704662322998, 0.865577220916748, 0.8481449484825134, 0.8672915101051331, 0.8180051445960999, 0.8708664774894714, 0.8616090416908264, 0.8962207436561584, 0.7643583416938782, 0.8436465263366699, 0.8200215101242065, 0.8412296772003174, 0.8491185903549194, 0.8393514752388, 0.8523842692375183, 0.8505446910858154, 0.7902734875679016, 0.8909862637519836, 0.86532062292099, 0.7795099020004272, 0.7940918207168579, 0.790313720703125, 0.8162606358528137, 0.7907282114028931, 0.8376478552818298, 0.8432607054710388, 0.8351801633834839, 0.8423640131950378, 0.871619701385498, 0.8197154998779297, 0.8381749391555786, 0.8204901218414307], 'recall': [0.8270143866539001, 0.866546630859375, 0.8138470649719238, 0.8387240171432495, 0.828418493270874, 0.8242571353912354, 0.8810458183288574, 0.8379436731338501, 0.8475583791732788, 0.8304420709609985, 0.8268955945968628, 0.8333942890167236, 0.8557552099227905, 0.8613833785057068, 0.8428912162780762, 0.8495141267776489, 0.8277105689048767, 0.8550037741661072, 0.8300651907920837, 0.8540173172950745, 0.8840759992599487, 0.8524168729782104, 0.8386400938034058, 0.8330568671226501, 0.8266940116882324, 0.8209971785545349, 0.8619415760040283, 0.8618840575218201, 0.8562970161437988, 0.8437644839286804, 0.8843012452125549, 0.8473312258720398, 0.8332712650299072, 0.8564608097076416, 0.8537147045135498, 0.8273350596427917, 0.8834549188613892, 0.8508466482162476, 0.862151026725769, 0.8302813172340393, 0.8315645456314087, 0.8690896034240723, 0.8365615010261536, 0.8450828790664673, 0.8556562662124634, 0.8592273592948914, 0.8390741348266602, 0.838208794593811, 0.822096586227417, 0.8088281154632568, 0.855828046798706, 0.8576457500457764, 0.8504601120948792, 0.8375413417816162, 0.8559396266937256, 0.8353298306465149, 0.8073008060455322, 0.8563706874847412, 0.8286406993865967, 0.8331196904182434, 0.8158746957778931, 0.8331133127212524, 0.8776518702507019, 0.8362900018692017, 0.9120928049087524, 0.8247295618057251, 0.8550398945808411, 0.8683702349662781, 0.8509698510169983, 0.8528335094451904, 0.8467433452606201, 0.8803007006645203, 0.8252638578414917, 0.8580681085586548, 0.8381407260894775, 0.8406908512115479, 0.8475106954574585, 0.8618388175964355, 0.8479833006858826, 0.8597375154495239, 0.860884428024292, 0.8719205856323242, 0.8512335419654846, 0.8584310412406921, 0.8279620409011841, 0.8354893326759338, 0.8205662369728088, 0.8283709287643433, 0.860770583152771, 0.843725323677063, 0.8398367166519165, 0.820980966091156, 0.8639118075370789, 0.851554274559021, 0.8236538767814636, 0.8299251794815063], 'f1': [0.8357241153717041, 0.8527597784996033, 0.8164385557174683, 0.8523922562599182, 0.8388272523880005, 0.8315002918243408, 0.8722723126411438, 0.8416801691055298, 0.8641963601112366, 0.8451806306838989, 0.8283146619796753, 0.8276990056037903, 0.8586692810058594, 0.8720345497131348, 0.8430445194244385, 0.8475368022918701, 0.8333657383918762, 0.8465346097946167, 0.8334882855415344, 0.8600176572799683, 0.892444908618927, 0.860480010509491, 0.84194415807724, 0.8411590456962585, 0.7836323976516724, 0.8121948838233948, 0.8758782744407654, 0.8612957000732422, 0.8604996204376221, 0.8448954224586487, 0.8760543465614319, 0.8550477027893066, 0.7646005153656006, 0.8605808019638062, 0.8589287996292114, 0.8389174938201904, 0.8828899264335632, 0.8512888550758362, 0.8604089021682739, 0.815324068069458, 0.8400311470031738, 0.876200795173645, 0.8363441228866577, 0.8505134582519531, 0.8589635491371155, 0.868149995803833, 0.8387158513069153, 0.8362151384353638, 0.8031796216964722, 0.7397801280021667, 0.8448817729949951, 0.8584790825843811, 0.8467429876327515, 0.8388413786888123, 0.8572046160697937, 0.8385714888572693, 0.8300004601478577, 0.856609046459198, 0.8185815811157227, 0.8267107009887695, 0.8252399563789368, 0.8196957111358643, 0.8583963513374329, 0.84220290184021, 0.8936147093772888, 0.8446598649024963, 0.8515784740447998, 0.8678305149078369, 0.8341619372367859, 0.8617556095123291, 0.8541115522384644, 0.888189435005188, 0.7936443090438843, 0.8507961630821228, 0.8289821147918701, 0.8409602046012878, 0.8483138680458069, 0.8504465818405151, 0.8501781225204468, 0.8551163673400879, 0.8240692019462585, 0.8813503384590149, 0.85821932554245, 0.8170691728591919, 0.8106732964515686, 0.8122739195823669, 0.8184077739715576, 0.8091119527816772, 0.849051833152771, 0.8434929847717285, 0.8375019431114197, 0.8315350413322449, 0.8677485585212708, 0.8353316187858582, 0.8308509588241577, 0.8251806497573853], 'hashcode': 'roberta-large_L17_no-idf_version=0.3.12(hug_trans=4.27.4)'}\n"
     ]
    }
   ],
   "source": [
    "from evaluate import load\n",
    "bertscore = load(\"bertscore\")\n",
    "results = bertscore.compute(predictions=combined_data['pegasus summary'], references=combined_data['gold truth'], lang=\"en\")\n",
    "print(results)"
   ]
  },
  {
   "attachments": {},
   "cell_type": "markdown",
   "metadata": {},
   "source": [
    "As the results are given for each row of the dataframe, the codes below is the average of all rows.\n",
    "\n",
    "#### Precision"
   ]
  },
  {
   "cell_type": "code",
   "execution_count": 36,
   "metadata": {},
   "outputs": [
    {
     "name": "stdout",
     "output_type": "stream",
     "text": [
      "0.8406\n"
     ]
    }
   ],
   "source": [
    "total_precision=sum(results['precision'])\n",
    "p_length=len(results['precision'])\n",
    "precision=total_precision/p_length\n",
    "print(round(precision,4))"
   ]
  },
  {
   "attachments": {},
   "cell_type": "markdown",
   "metadata": {},
   "source": [
    "#### Recall"
   ]
  },
  {
   "cell_type": "code",
   "execution_count": 38,
   "metadata": {},
   "outputs": [
    {
     "name": "stdout",
     "output_type": "stream",
     "text": [
      "0.8457\n"
     ]
    }
   ],
   "source": [
    "total_recall=sum(results['recall'])\n",
    "r_length=len(results['recall'])\n",
    "recall =total_recall/r_length\n",
    "print(round(recall,4))"
   ]
  },
  {
   "cell_type": "markdown",
   "metadata": {},
   "source": [
    "#### F1 Score"
   ]
  },
  {
   "cell_type": "code",
   "execution_count": 39,
   "metadata": {},
   "outputs": [
    {
     "name": "stdout",
     "output_type": "stream",
     "text": [
      "0.8429\n"
     ]
    }
   ],
   "source": [
    "total_f1=sum(results['f1'])\n",
    "f1_length=len(results['f1'])\n",
    "f1 =total_f1/f1_length\n",
    "print(round(f1,4))"
   ]
  }
 ],
 "metadata": {
  "kernelspec": {
   "display_name": "Python 3",
   "language": "python",
   "name": "python3"
  },
  "language_info": {
   "codemirror_mode": {
    "name": "ipython",
    "version": 3
   },
   "file_extension": ".py",
   "mimetype": "text/x-python",
   "name": "python",
   "nbconvert_exporter": "python",
   "pygments_lexer": "ipython3",
   "version": "3.9.0"
  },
  "orig_nbformat": 4
 },
 "nbformat": 4,
 "nbformat_minor": 2
}
